{
 "cells": [
  {
   "cell_type": "markdown",
   "id": "df92bca2",
   "metadata": {
    "slideshow": {
     "slide_type": "slide"
    }
   },
   "source": [
    "# Introduction to Gurobi Python API\n",
    "\n",
    "###### Gurobi Days Digital\n",
    "###### June 1, 2023\n",
    "###### Maliheh Aramon, PhD, Optimization Engineer\n",
    "###### aramon@gurobi.com"
   ]
  },
  {
   "cell_type": "markdown",
   "id": "a89d2355",
   "metadata": {
    "slideshow": {
     "slide_type": "slide"
    }
   },
   "source": [
    "## How to Run the Notebook locally?\n",
    "- Visit [Gurobi modeling-examples](https://github.com/Gurobi/modeling-examples) repository \n",
    "- Clone the repository which contains this notebook and other examples or download it\n",
    "by clicking [here](https://github.com/Gurobi/modeling-examples/archive/refs/heads/master.zip)\n",
    "- Navigate to folder __gurobi_days_digital_2023/intro_to_gurobipy__\n",
    "- [Start Jupyter Notebook Server](https://docs.jupyter.org/en/latest/running.html#id2)\n",
    "- Open the notebook in Jupyter Notebook\n",
    "- The notebook will install the gurobipy package and other dependencies. The Gurobi pip package includes a size-limited trial license that will allow you to run the notebook"
   ]
  },
  {
   "cell_type": "code",
   "execution_count": 1,
   "id": "922de8f7",
   "metadata": {
    "slideshow": {
     "slide_type": "slide"
    }
   },
   "outputs": [
    {
     "name": "stdout",
     "output_type": "stream",
     "text": [
      "Requirement already satisfied: gurobipy>=10.0 in c:\\users\\user\\anaconda3\\envs\\python39\\lib\\site-packages (10.0.2)\n",
      "Note: you may need to restart the kernel to use updated packages.\n"
     ]
    },
    {
     "name": "stderr",
     "output_type": "stream",
     "text": [
      "WARNING: Ignoring invalid distribution -illow (c:\\users\\user\\anaconda3\\envs\\python39\\lib\\site-packages)\n",
      "WARNING: Ignoring invalid distribution -illow (c:\\users\\user\\anaconda3\\envs\\python39\\lib\\site-packages)\n"
     ]
    },
    {
     "name": "stdout",
     "output_type": "stream",
     "text": [
      "Requirement already satisfied: numpy in c:\\users\\user\\anaconda3\\envs\\python39\\lib\\site-packages (1.25.0)\n",
      "Note: you may need to restart the kernel to use updated packages.\n"
     ]
    },
    {
     "name": "stderr",
     "output_type": "stream",
     "text": [
      "WARNING: Ignoring invalid distribution -illow (c:\\users\\user\\anaconda3\\envs\\python39\\lib\\site-packages)\n",
      "WARNING: Ignoring invalid distribution -illow (c:\\users\\user\\anaconda3\\envs\\python39\\lib\\site-packages)\n"
     ]
    },
    {
     "name": "stdout",
     "output_type": "stream",
     "text": [
      "Requirement already satisfied: scipy in c:\\users\\user\\anaconda3\\envs\\python39\\lib\\site-packages (1.10.1)\n",
      "Requirement already satisfied: numpy<1.27.0,>=1.19.5 in c:\\users\\user\\anaconda3\\envs\\python39\\lib\\site-packages (from scipy) (1.25.0)\n",
      "Note: you may need to restart the kernel to use updated packages.\n"
     ]
    },
    {
     "name": "stderr",
     "output_type": "stream",
     "text": [
      "WARNING: Ignoring invalid distribution -illow (c:\\users\\user\\anaconda3\\envs\\python39\\lib\\site-packages)\n",
      "WARNING: Ignoring invalid distribution -illow (c:\\users\\user\\anaconda3\\envs\\python39\\lib\\site-packages)\n"
     ]
    },
    {
     "name": "stdout",
     "output_type": "stream",
     "text": [
      "Requirement already satisfied: pandas in c:\\users\\user\\anaconda3\\envs\\python39\\lib\\site-packages (2.0.3)\n",
      "Requirement already satisfied: python-dateutil>=2.8.2 in c:\\users\\user\\anaconda3\\envs\\python39\\lib\\site-packages (from pandas) (2.8.2)\n",
      "Requirement already satisfied: pytz>=2020.1 in c:\\users\\user\\anaconda3\\envs\\python39\\lib\\site-packages (from pandas) (2022.7)\n",
      "Requirement already satisfied: tzdata>=2022.1 in c:\\users\\user\\anaconda3\\envs\\python39\\lib\\site-packages (from pandas) (2023.3)\n",
      "Requirement already satisfied: numpy>=1.20.3 in c:\\users\\user\\anaconda3\\envs\\python39\\lib\\site-packages (from pandas) (1.25.0)\n",
      "Requirement already satisfied: six>=1.5 in c:\\users\\user\\anaconda3\\envs\\python39\\lib\\site-packages (from python-dateutil>=2.8.2->pandas) (1.16.0)\n",
      "Note: you may need to restart the kernel to use updated packages.\n"
     ]
    },
    {
     "name": "stderr",
     "output_type": "stream",
     "text": [
      "WARNING: Ignoring invalid distribution -illow (c:\\users\\user\\anaconda3\\envs\\python39\\lib\\site-packages)\n",
      "WARNING: Ignoring invalid distribution -illow (c:\\users\\user\\anaconda3\\envs\\python39\\lib\\site-packages)\n"
     ]
    }
   ],
   "source": [
    "%pip install \"gurobipy>=10.0\"\n",
    "\n",
    "# Install other dependencies\n",
    "%pip install numpy\n",
    "%pip install scipy\n",
    "%pip install pandas"
   ]
  },
  {
   "cell_type": "markdown",
   "id": "d247cb27",
   "metadata": {
    "slideshow": {
     "slide_type": "slide"
    }
   },
   "source": [
    "# Gurobi Python API\n",
    "\n",
    "Gurobi Python API, also known as _gurobipy_ is the most popular Gurobi API because it allows building the model with\n",
    "- individual variables and constraints like other Guorbi's object-oriented APIs such as C, C++, Java, and .NET\n",
    "- matrices like other Gurobi's matrix-oriented interfaces such as MATLAB and R\n",
    "- more detailed mathematical syntax like traditional modeling languages\n",
    "\n",
    "In this session, we will walk you through the basics of the Gurobi Python API."
   ]
  },
  {
   "cell_type": "markdown",
   "id": "287f3155",
   "metadata": {
    "slideshow": {
     "slide_type": "slide"
    }
   },
   "source": [
    "## How to Install gurobipy?\n",
    "\n",
    "There are three main approaches to install gurobipy on any operating systems such as Linux, Windows, or macOS.\n",
    "\n",
    "- [Pip](https://www.gurobi.com/documentation/10.0/quickstart_mac/cs_using_pip_to_install_gr.html#subsubsection:pip)\n",
    "- [Conda](https://www.gurobi.com/documentation/10.0/quickstart_mac/cs_anaconda_and_grb_conda_.html#subsubsection:Anaconda)\n",
    "- [Manual installation via the Gurobi distribution package](https://www.gurobi.com/documentation/10.0/quickstart_mac/cs_manual_installation.html#subsubsection:manualinstall)\n",
    "\n",
    "Relevant Knowledge Base (KB) articles:\n",
    "- [Which Python versions are supported by Gurobi?](https://support.gurobi.com/hc/en-us/articles/360013195212)\n",
    "- [How do I install Gurobi for Python?](https://support.gurobi.com/hc/en-us/articles/360044290292-How-do-I-install-Gurobi-for-Python-)"
   ]
  },
  {
   "cell_type": "markdown",
   "id": "fe9e495b",
   "metadata": {
    "slideshow": {
     "slide_type": "slide"
    }
   },
   "source": [
    "## Optimization Models \n",
    "\n",
    "The canonical form of optimization models Gurobi can handle is given below:\n",
    "\n",
    "\\begin{align}\n",
    "\\mbox{Model P:} ~~~~ \\mbox{minimize} \\quad & x^T Q x + c^T x + d &  \\notag \\\\\n",
    "\\mbox{subject to} \\quad & Ax = b & \\notag & \\notag \\\\\n",
    "                        & x^T Q_i x + c_i^T x \\leq d_i & \\forall i \\in I \\notag \\\\\n",
    "                        & l \\leq x \\leq u & \\notag \\\\\n",
    "                        & x_j \\in \\mathbb{Z} & \\forall j \\in J \n",
    "\\end{align}\n",
    "\n",
    "In this session, we would learn how to map the above math constructs to code using gurobipy.\n",
    "\n",
    "Each mathematical model has four main elements: __Data + Decision variables + Constraints + Objective function(s)__\n",
    "\n",
    "__Data__:\n",
    "\\begin{align}\n",
    "& \\mbox{Sets:}~~ I, J & \\notag \\\\ \n",
    "& \\mbox{Coefficients:}~~ Q, c, A, Q_i, c_i \\notag &\\\\ \n",
    "& \\mbox{RHS values:}~~ b, d_i & \\notag \\\\ \n",
    "& \\mbox{Lower and upper bounds:}~~ l, u & \\notag \\\\ \n",
    "& \\mbox{Constants:}~~ d & \\notag \\\\\n",
    "& \\mbox{Operators:} & \\notag \\\\\n",
    "& ~~~~~~ \\mbox{Arithmetic}~ (+, -, *, \\div)& \\notag \\\\\n",
    "& ~~~~~~ \\mbox{Constraint operators} ~(\\geq, \\leq, =) & \\notag\n",
    "\\end{align}"
   ]
  },
  {
   "cell_type": "markdown",
   "id": "d97b6242",
   "metadata": {
    "slideshow": {
     "slide_type": "slide"
    }
   },
   "source": [
    "## Simple Example\n",
    "Let us start with a simple example:\n",
    "\n",
    "\\begin{align}\n",
    "\\mbox{maximize} \\quad & x + y + 2z \\notag \\\\\n",
    "\\mbox{subject to} \\quad & x + 2y + 3z \\leq 4 \\notag \\\\\n",
    "                        & x + y \\geq 1 \\notag \\\\\n",
    "                        & x, y, z \\in \\{0, 1\\} \\notag\n",
    "\\end{align}"
   ]
  },
  {
   "cell_type": "code",
   "execution_count": 2,
   "id": "985298bc",
   "metadata": {
    "code_folding": [
     22
    ],
    "slideshow": {
     "slide_type": "fragment"
    }
   },
   "outputs": [
    {
     "name": "stdout",
     "output_type": "stream",
     "text": [
      "Set parameter Username\n",
      "Academic license - for non-commercial use only - expires 2024-04-29\n",
      "Gurobi Optimizer version 10.0.2 build v10.0.2rc0 (win64)\n",
      "\n",
      "CPU model: AMD Ryzen 7 5800H with Radeon Graphics, instruction set [SSE2|AVX|AVX2]\n",
      "Thread count: 8 physical cores, 16 logical processors, using up to 16 threads\n",
      "\n",
      "Optimize a model with 2 rows, 3 columns and 5 nonzeros\n",
      "Model fingerprint: 0x98886187\n",
      "Variable types: 0 continuous, 3 integer (3 binary)\n",
      "Coefficient statistics:\n",
      "  Matrix range     [1e+00, 3e+00]\n",
      "  Objective range  [1e+00, 2e+00]\n",
      "  Bounds range     [1e+00, 1e+00]\n",
      "  RHS range        [1e+00, 4e+00]\n",
      "Found heuristic solution: objective 2.0000000\n",
      "Presolve removed 2 rows and 3 columns\n",
      "Presolve time: 0.00s\n",
      "Presolve: All rows and columns removed\n",
      "\n",
      "Explored 0 nodes (0 simplex iterations) in 0.01 seconds (0.00 work units)\n",
      "Thread count was 1 (of 16 available processors)\n",
      "\n",
      "Solution count 2: 3 2 \n",
      "\n",
      "Optimal solution found (tolerance 1.00e-04)\n",
      "Best objective 3.000000000000e+00, best bound 3.000000000000e+00, gap 0.0000%\n",
      "******* Solution *******\n",
      "x: 1.0\n",
      "y: 0.0\n",
      "z: 1.0\n",
      "************************\n"
     ]
    }
   ],
   "source": [
    "# Import gurobipy package as gp for convenience\n",
    "import gurobipy as gp\n",
    "\n",
    "# GRB is the list of all Gurobi constants\n",
    "from gurobipy import GRB\n",
    "\n",
    "# Create a Gurobi environment and a model object\n",
    "with gp.Env() as env, gp.Model(\"simple-example\", env=env) as model:\n",
    "    # Define decision variables\n",
    "    x = model.addVar(vtype=GRB.BINARY, name=\"x\")\n",
    "    y = model.addVar(vtype=GRB.BINARY, name=\"y\")\n",
    "    z = model.addVar(vtype=GRB.BINARY, name=\"z\")\n",
    "\n",
    "    # Define constraints\n",
    "    model.addConstr(x + 2 * y + 3 * z <= 4, name=\"c0\")\n",
    "    model.addConstr(x + y >= 1, name=\"c1\")\n",
    "\n",
    "    # Define objective\n",
    "    model.setObjective(x + y + 2 * z, sense=GRB.MAXIMIZE)\n",
    "\n",
    "    # Optimize model\n",
    "    model.optimize()\n",
    "\n",
    "    print(\"******* Solution *******\")\n",
    "    for var in model.getVars():\n",
    "        print(f\"{var.VarName}: {var.X}\")\n",
    "    print(\"************************\")"
   ]
  },
  {
   "cell_type": "markdown",
   "id": "782dd74c",
   "metadata": {
    "slideshow": {
     "slide_type": "slide"
    }
   },
   "source": [
    "## Python Data Structures\n",
    "\n",
    "- Tuple: An ordered, compound grouping that cannot be modified once it is created and it is ideal for representing multi dimensional subscripts.\n",
    "    ```\n",
    "        (\"city_0\", \"city_1\")\n",
    "    ```\n",
    "- List: An ordered group, so each item is indexed. Lists can be modified by adding, deleting or sorting elements.\n",
    "    ```\n",
    "        [\"city_0\", \"city_1\", \"city_2\"]\n",
    "     ```\n",
    "- Set: An unordered group of unique elements. Sets can only be modified by adding or deleting.\n",
    "    ```\n",
    "        {\"city_0\", \"city_1\", \"city_2\"}\n",
    "    ```\n",
    "- Dictionary: A key-value pair mapping that is ideal for representing indexed data such as cost, demand, capacity.\n",
    "    ```\n",
    "        damand = {\"city_0\": 100, \"city_1\": 50, \"city_2\": 40}\n",
    "    ```"
   ]
  },
  {
   "cell_type": "markdown",
   "id": "521221e8",
   "metadata": {
    "slideshow": {
     "slide_type": "slide"
    }
   },
   "source": [
    " ## Extented Data Structures in Gurobi Python API\n",
    " \n",
    " - [tuplelist()](https://www.gurobi.com/documentation/10.0/refman/py_tuplelist.html)\n",
    "     - A sub-class of Python list \n",
    "     - Important methods to build sub-lists efficiently \n",
    "         - [tuplelist.select(pattern)](https://www.gurobi.com/documentation/10.0/refman/py_tuplelist_select.html) --> tuplelist()\n",
    "     \n",
    " \n",
    " \n",
    "- [tupledict()](https://www.gurobi.com/documentation/10.0/refman/py_tupledict.html)\n",
    "    - A sub-class of Python dict\n",
    "    - The keys of a tupledict() are stored as tuplelist() and the values are Gurobi variable objects\n",
    "    - Important methods to build linear expressions efficiently:\n",
    "        - [tupledict.select(pattern)](https://www.gurobi.com/documentation/10.0/refman/py_tupledict_select.html) --> List\n",
    "        - [tupledict.sum(pattern)](https://www.gurobi.com/documentation/10.0/refman/py_tupledict_sum.html) --> LinExpr()\n",
    "        - [tupledict.prod(coeff, pattern)](https://www.gurobi.com/documentation/10.0/refman/py_tupledict_prod.html) --> LinExpr()\n",
    "    \n",
    "    \n",
    "- [multidict()](https://www.gurobi.com/documentation/10.0/refman/py_multidict.html): A convenience function to define multiple dictionaries in one statement."
   ]
  },
  {
   "cell_type": "code",
   "execution_count": 3,
   "id": "670c2be2",
   "metadata": {
    "slideshow": {
     "slide_type": "fragment"
    }
   },
   "outputs": [
    {
     "name": "stdout",
     "output_type": "stream",
     "text": [
      "data: {('a', 'b', 'c'): 3, ('a', 'c', 'b'): 4, ('b', 'a', 'c'): 5, ('b', 'c', 'a'): 6, ('c', 'a', 'b'): 7, ('c', 'b', 'a'): 3}\n"
     ]
    }
   ],
   "source": [
    "import gurobipy as gp\n",
    "from gurobipy import GRB\n",
    "\n",
    "data = gp.tupledict(\n",
    "    [\n",
    "        ((\"a\", \"b\", \"c\"), 3),\n",
    "        ((\"a\", \"c\", \"b\"), 4),\n",
    "        ((\"b\", \"a\", \"c\"), 5),\n",
    "        ((\"b\", \"c\", \"a\"), 6),\n",
    "        ((\"c\", \"a\", \"b\"), 7),\n",
    "        ((\"c\", \"b\", \"a\"), 3),\n",
    "    ]\n",
    ")\n",
    "print(f\"data: {data}\")"
   ]
  },
  {
   "cell_type": "code",
   "execution_count": 4,
   "id": "eefb7e67",
   "metadata": {},
   "outputs": [
    {
     "name": "stdout",
     "output_type": "stream",
     "text": [
      "\n",
      "Tuplelist:\n",
      "\tselect: <gurobi.tuplelist (2 tuples, 3 values each):\n",
      " ( a , b , c )\n",
      " ( a , c , b )\n",
      ">\n"
     ]
    }
   ],
   "source": [
    "print(\"\\nTuplelist:\")\n",
    "keys = data.keys()\n",
    "print(f\"\\tselect: {keys.select('a', '*', '*')}\")"
   ]
  },
  {
   "cell_type": "code",
   "execution_count": 5,
   "id": "ba1ff69b",
   "metadata": {},
   "outputs": [
    {
     "name": "stdout",
     "output_type": "stream",
     "text": [
      "\n",
      "Tupledict:\n",
      "\tselect  : [3, 4]\n",
      "\tsum     : 28.0\n",
      "\tprod    : 0.0\n"
     ]
    }
   ],
   "source": [
    "print(\"\\nTupledict:\")\n",
    "print(f\"\\tselect  : {data.select('a', '*', '*')}\")\n",
    "print(f\"\\tsum     : {data.sum('*', '*', '*')}\")\n",
    "coeff = {(\"a\", \"c\", \"b\"): 6, (\"b\", \"c\", \"a\"): -4}\n",
    "print(f\"\\tprod    : {data.prod(coeff, '*', 'c', '*')}\")"
   ]
  },
  {
   "cell_type": "code",
   "execution_count": 6,
   "id": "6102c6d6",
   "metadata": {
    "slideshow": {
     "slide_type": "fragment"
    }
   },
   "outputs": [
    {
     "name": "stdout",
     "output_type": "stream",
     "text": [
      "\n",
      "Multidict:\n",
      "\tcapacity: {('Detroit', 'Boston'): 100, ('Detroit', 'New York'): 80, ('Detroit', 'Seattle'): 120, ('Denver', 'Boston'): 120, ('Denver', 'New York'): 120, ('Denver', 'Seattle'): 120}\n",
      "\n",
      "\n",
      "\tcost: {('Detroit', 'Boston'): 7, ('Detroit', 'New York'): 5, ('Detroit', 'Seattle'): 4, ('Denver', 'Boston'): 8, ('Denver', 'New York'): 11, ('Denver', 'Seattle'): 4}\n"
     ]
    }
   ],
   "source": [
    "arcs, capacity, cost = gp.multidict(\n",
    "    {\n",
    "        (\"Detroit\", \"Boston\"): [100, 7],\n",
    "        (\"Detroit\", \"New York\"): [80, 5],\n",
    "        (\"Detroit\", \"Seattle\"): [120, 4],\n",
    "        (\"Denver\", \"Boston\"): [120, 8],\n",
    "        (\"Denver\", \"New York\"): [120, 11],\n",
    "        (\"Denver\", \"Seattle\"): [120, 4],\n",
    "    }\n",
    ")\n",
    "print(\"\\nMultidict:\")\n",
    "print(f\"\\tcapacity: {capacity}\")\n",
    "print(\"\\n\")\n",
    "print(f\"\\tcost: {cost}\")"
   ]
  },
  {
   "cell_type": "markdown",
   "id": "e14650dd",
   "metadata": {
    "slideshow": {
     "slide_type": "slide"
    }
   },
   "source": [
    "## [Environments](https://www.gurobi.com/documentation/10.0/refman/py_env2.html)\n",
    "\n",
    "```\n",
    "+--------------------------------------------+\n",
    "| Environment                                |\n",
    "| +----------------------------------------+ |\n",
    "| | Model                                  | |\n",
    "| | +------+ +-----------+ +-------------+ | | \n",
    "| | | Data | | Variables | | Constraints | | |\n",
    "| | +------+ +-----------+ +-------------+ | |\n",
    "| | +-----------+                          | |\n",
    "| | | Objective |                          | |\n",
    "| | +-----------+                          | |\n",
    "| +----------------------------------------+ |\n",
    "+--------------------------------------------+  \n",
    "```\n",
    "\n",
    "Python API has a default environment which is used by default unless a new environment is created and explicitly passed to the routines that require an environment.\n",
    "\n",
    "The main reason to create an environment is to have control over when your application starts using Gurobi and when it stops using it! \n",
    "- Using remote resources such as floating, cloud, or compute server licenses for optimization\n",
    "- Garbage collection when using Jupyter notebooks\n",
    "\n",
    "Note: It is better to create new environments via the context manager."
   ]
  },
  {
   "cell_type": "markdown",
   "id": "a39c946c",
   "metadata": {
    "slideshow": {
     "slide_type": "slide"
    }
   },
   "source": [
    "## [Model](https://www.gurobi.com/documentation/10.0/refman/py_model.html)\n",
    "Model building in the [Python API](https://www.gurobi.com/documentation/10.0/refman/py_python_api_overview.html) is object oriented. The reference manual contains [a full list of methods](https://www.gurobi.com/documentation/10.0/refman/py_python_api_details.html#sec:Python-details) on a model object. \n",
    "\n",
    "The signature for constructing a model object is:\n",
    "```\n",
    "Model(name=\"\", env=defaultEnv)\n",
    "```"
   ]
  },
  {
   "cell_type": "code",
   "execution_count": 7,
   "id": "e52bfe37",
   "metadata": {
    "slideshow": {
     "slide_type": "fragment"
    }
   },
   "outputs": [
    {
     "name": "stdout",
     "output_type": "stream",
     "text": [
      "Set parameter Username\n",
      "Academic license - for non-commercial use only - expires 2024-04-29\n",
      "Freeing default Gurobi environment\n",
      "Set parameter Username\n",
      "Academic license - for non-commercial use only - expires 2024-04-29\n",
      "Set parameter Username\n",
      "Academic license - for non-commercial use only - expires 2024-04-29\n"
     ]
    }
   ],
   "source": [
    "import gurobipy as gp\n",
    "\n",
    "# Build a model object with the default environment\n",
    "with gp.Model(name=\"model\") as model:\n",
    "    pass\n",
    "\n",
    "model = gp.Model(name=\"model\")\n",
    "model.dispose()\n",
    "gp.disposeDefaultEnv()\n",
    "\n",
    "# Build a model object with a new environment\n",
    "with gp.Env() as env, gp.Model(name=\"model\", env=env) as model:\n",
    "    pass\n",
    "\n",
    "env = gp.Env()\n",
    "model = gp.Model(name=\"model\", env=env)\n",
    "model.dispose()\n",
    "env.dispose()"
   ]
  },
  {
   "cell_type": "markdown",
   "id": "b4b2e89b",
   "metadata": {
    "slideshow": {
     "slide_type": "slide"
    }
   },
   "source": [
    "## Decision Variables\n",
    "\n",
    "Since variables are associated with a particular model object, use the [Model.addVar()](https://www.gurobi.com/documentation/10.0/refman/py_model_addvar.html#pythonmethod:Model.addVar) method to create a Gurobi variable object ([Var](https://www.gurobi.com/documentation/10.0/refman/py_var.html)):\n",
    "```\n",
    "Model.addVar(lb=0, ub=float(\"inf\"), obj=0, vtype=GRB.CONTINUOUS, name=\"\", column=None)\n",
    "```\n",
    "\n",
    "The available variable types in Gurobi are:\n",
    "- Continuous: `GRB.CONTINUOUS`\n",
    "- General integer: `GRB.INTEGER`\n",
    "- Binary: `GRB.BINARY`\n",
    "- Semi-continuous: `GRB.SEMICONT`\n",
    "- Semi-integer: `GRB.SEMIINT`\n",
    "\n",
    "A semi-continuous variable has the property that it takes a value of 0, or a value between the specified lower and upper bounds. A semi-integer variable adds the additional restriction that the variable should take an integral value."
   ]
  },
  {
   "cell_type": "code",
   "execution_count": 8,
   "id": "5a1f9012",
   "metadata": {
    "slideshow": {
     "slide_type": "fragment"
    }
   },
   "outputs": [
    {
     "name": "stdout",
     "output_type": "stream",
     "text": [
      "Set parameter Username\n",
      "Academic license - for non-commercial use only - expires 2024-04-29\n"
     ]
    }
   ],
   "source": [
    "import gurobipy as gp\n",
    "from gurobipy import GRB\n",
    "\n",
    "with gp.Model(name=\"model\") as model:\n",
    "    # Define a binary decision variable\n",
    "    x = model.addVar(vtype=GRB.BINARY, name=\"x\")\n",
    "    # Define an integer variable with lb=-1, ub=100\n",
    "    y = model.addVar(lb=-1, ub=100, vtype=GRB.INTEGER, name=\"y\")"
   ]
  },
  {
   "cell_type": "markdown",
   "id": "eea3ff89",
   "metadata": {
    "slideshow": {
     "slide_type": "slide"
    }
   },
   "source": [
    "## [Model.addVars()](https://www.gurobi.com/documentation/10.0/refman/py_model_addvars.html#pythonmethod:Model.addVar)\n",
    "\n",
    "To add multiple decision variables to the model, use the Model.addVars() method which returns a Gurobi tupledict object containing the newly created variables:\n",
    "```\n",
    "Model.addVars(*indices, lb=0.0, ub=float('inf'), obj=0.0, vtype=GRB.CONTINUOUS, name=\"\")\n",
    "```\n",
    "The first argument is indices for accessing the variables:\n",
    "- Integers\n",
    "- lists of scalars\n",
    "- tuplelist\n",
    "- generator\n",
    "\n",
    "The given name is subscripted by the index of the generator expression. \n",
    "- The names are stored as ASCII strings \n",
    "    - avoid using names that contain non-ASCII characters and spaces"
   ]
  },
  {
   "cell_type": "code",
   "execution_count": 9,
   "id": "7ff0dfb1",
   "metadata": {
    "slideshow": {
     "slide_type": "fragment"
    }
   },
   "outputs": [
    {
     "name": "stdout",
     "output_type": "stream",
     "text": [
      "['x[0,0,0]', 'x[0,0,1]', 'x[0,0,2]', 'x[0,0,3]', 'x[0,1,0]', 'x[0,1,1]', 'x[0,1,2]', 'x[0,1,3]', 'x[0,2,0]', 'x[0,2,1]', 'x[0,2,2]', 'x[0,2,3]', 'x[1,0,0]', 'x[1,0,1]', 'x[1,0,2]', 'x[1,0,3]', 'x[1,1,0]', 'x[1,1,1]', 'x[1,1,2]', 'x[1,1,3]', 'x[1,2,0]', 'x[1,2,1]', 'x[1,2,2]', 'x[1,2,3]']\n",
      "\n",
      "Variables names, upper bounds, and indices:\n",
      "name: y_0, ub: 0.0, index: (1, 7)\n",
      "name: y_1, ub: 1.0, index: (1, 3)\n",
      "name: y_2, ub: 2.0, index: (1, 2)\n",
      "name: y_3, ub: 3.0, index: (5, 7)\n",
      "name: y_4, ub: 4.0, index: (5, 3)\n",
      "name: y_5, ub: 5.0, index: (5, 2)\n",
      "\n",
      "Variables names and lower and upper bounds:\n",
      "name: z[3,a], lb: -inf, ub: inf\n",
      "name: z[3,b], lb: -inf, ub: inf\n",
      "name: z[7,b], lb: -inf, ub: inf\n",
      "name: z[7,c], lb: -inf, ub: inf\n"
     ]
    }
   ],
   "source": [
    "import gurobipy as gp\n",
    "from gurobipy import GRB\n",
    "\n",
    "with gp.Model(name=\"model\") as model:\n",
    "    # 3D array of binary variables\n",
    "    x = model.addVars(2, 3, 4, vtype=GRB.BINARY, name=\"x\")\n",
    "    model.update()\n",
    "    print(model.getAttr(\"VarName\", model.getVars()))\n",
    "\n",
    "    # Use arbitrary lists of immutable objects to create a tupledict of 6 variables\n",
    "    y = model.addVars([1, 5], [7, 3, 2], ub=range(6), name=[f\"y_{i}\" for i in range(6)])\n",
    "    model.update()\n",
    "    print(\"\\nVariables names, upper bounds, and indices:\")\n",
    "    for index, var in y.items():\n",
    "        print(f\"name: {var.VarName}, ub: {var.UB}, index: {index}\")\n",
    "\n",
    "    # Use arbitrary list of tuples as indices\n",
    "    z = model.addVars(\n",
    "        [(3, \"a\"), (3, \"b\"), (7, \"b\"), (7, \"c\")],\n",
    "        lb=-GRB.INFINITY,\n",
    "        ub=GRB.INFINITY,\n",
    "        name=\"z\",\n",
    "    )\n",
    "    model.update()\n",
    "    print(\"\\nVariables names and lower and upper bounds:\")\n",
    "    for index, var in z.items():\n",
    "        print(f\"name: {var.VarName}, lb: {var.LB}, ub: {var.UB}\")"
   ]
  },
  {
   "cell_type": "markdown",
   "id": "f68aeb79",
   "metadata": {
    "slideshow": {
     "slide_type": "slide"
    }
   },
   "source": [
    "## Constraints\n",
    "Like variables, constraints are also associated with a model. Use the method [Model.addConstr()](https://www.gurobi.com/documentation/10.0/refman/py_model_addconstr.html) to add a constraint to a model.\n",
    "```\n",
    "Model.addConstr(constr, name=\"\")\n",
    "```\n",
    "\n",
    "`constr` is a [TempConstr](https://www.gurobi.com/documentation/10.0/refman/py_tempconstr.html#pythonclass:TempConstr) object that can take different types:\n",
    "\n",
    "- Linear Constraint: `x + y <= 1` \n",
    "- Ranged Linear Constraint: `x + y == [1, 3]`\n",
    "- Quadratic Constraint: `x*x + y*y + x*y <= 1`\n",
    "- Linear Matrix Constraint: `A @ x <= 1`\n",
    "- Quadratic Matrix Constraint: `x @ Q @ y <= 2`\n",
    "- Absolute Value Constraint: `x == abs_(y)`\n",
    "- Logical Constraint: `x == and_(y, z)`\n",
    "- Min or Max Constraint: `z == max_(x, y, constant=9)`\n",
    "- Indicator Constraint: `(x == 1) >> (y + z <= 5)`"
   ]
  },
  {
   "cell_type": "code",
   "execution_count": 10,
   "id": "9ad55a25",
   "metadata": {
    "slideshow": {
     "slide_type": "fragment"
    }
   },
   "outputs": [
    {
     "name": "stdout",
     "output_type": "stream",
     "text": [
      "RHS, sense = 4.0, <\n",
      "row: x[0] + x[1] + x[2] + x[3] + x[4] + x[5] + x[6] + x[7] + x[8] + x[9]\n",
      "\n",
      "\n",
      "\n",
      "Name: c_00\n",
      "\tRHS, sense = 3.0, >\n",
      "\trow: x[0] + y[0] + [ -1.0 x[0] * y[0] ]\n",
      "Name: c_01\n",
      "\tRHS, sense = 3.0, >\n",
      "\trow: x[0] + y[1] + [ -1.0 x[0] * y[1] ]\n",
      "Name: c_02\n",
      "\tRHS, sense = 3.0, >\n",
      "\trow: x[0] + y[2] + [ -1.0 x[0] * y[2] ]\n",
      "Name: c_03\n",
      "\tRHS, sense = 3.0, >\n",
      "\trow: x[0] + y[3] + [ -1.0 x[0] * y[3] ]\n",
      "Name: c_10\n",
      "\tRHS, sense = 3.0, >\n",
      "\trow: x[1] + y[0] + [ -1.0 x[1] * y[0] ]\n",
      "Name: c_11\n",
      "\tRHS, sense = 3.0, >\n",
      "\trow: x[1] + y[1] + [ -1.0 x[1] * y[1] ]\n",
      "Name: c_12\n",
      "\tRHS, sense = 3.0, >\n",
      "\trow: x[1] + y[2] + [ -1.0 x[1] * y[2] ]\n",
      "Name: c_13\n",
      "\tRHS, sense = 3.0, >\n",
      "\trow: x[1] + y[3] + [ -1.0 x[1] * y[3] ]\n",
      "Name: c_20\n",
      "\tRHS, sense = 3.0, >\n",
      "\trow: x[2] + y[0] + [ -1.0 x[2] * y[0] ]\n",
      "Name: c_21\n",
      "\tRHS, sense = 3.0, >\n",
      "\trow: x[2] + y[1] + [ -1.0 x[2] * y[1] ]\n",
      "Name: c_22\n",
      "\tRHS, sense = 3.0, >\n",
      "\trow: x[2] + y[2] + [ -1.0 x[2] * y[2] ]\n",
      "Name: c_23\n",
      "\tRHS, sense = 3.0, >\n",
      "\trow: x[2] + y[3] + [ -1.0 x[2] * y[3] ]\n",
      "Name: c_30\n",
      "\tRHS, sense = 3.0, >\n",
      "\trow: x[3] + y[0] + [ -1.0 x[3] * y[0] ]\n",
      "Name: c_31\n",
      "\tRHS, sense = 3.0, >\n",
      "\trow: x[3] + y[1] + [ -1.0 x[3] * y[1] ]\n",
      "Name: c_32\n",
      "\tRHS, sense = 3.0, >\n",
      "\trow: x[3] + y[2] + [ -1.0 x[3] * y[2] ]\n",
      "Name: c_33\n",
      "\tRHS, sense = 3.0, >\n",
      "\trow: x[3] + y[3] + [ -1.0 x[3] * y[3] ]\n",
      "Name: c_40\n",
      "\tRHS, sense = 3.0, >\n",
      "\trow: x[4] + y[0] + [ -1.0 x[4] * y[0] ]\n",
      "Name: c_41\n",
      "\tRHS, sense = 3.0, >\n",
      "\trow: x[4] + y[1] + [ -1.0 x[4] * y[1] ]\n",
      "Name: c_42\n",
      "\tRHS, sense = 3.0, >\n",
      "\trow: x[4] + y[2] + [ -1.0 x[4] * y[2] ]\n",
      "Name: c_43\n",
      "\tRHS, sense = 3.0, >\n",
      "\trow: x[4] + y[3] + [ -1.0 x[4] * y[3] ]\n"
     ]
    }
   ],
   "source": [
    "import gurobipy as gp\n",
    "from gurobipy import GRB\n",
    "\n",
    "# Add constraint \"\\sum_{i=1}^{n} x_i <= b\" for any given n and b. Assume x_i are binary variables\n",
    "n, b = 10, 4\n",
    "with gp.Model(\"model\") as model:\n",
    "    x = model.addVars(n, vtype=GRB.BINARY, name=\"x\")\n",
    "    model.addConstr(gp.quicksum(x[i] for i in range(n)) <= b, name=\"c1\")\n",
    "    model.update()\n",
    "\n",
    "    # Print the LHS, Sense, and RHS of c1\n",
    "    c1 = model.getConstrByName(\"c1\")\n",
    "    print(f\"RHS, sense = {c1.RHS}, {c1.Sense}\")\n",
    "    print(f\"row: {model.getRow(c1)}\")\n",
    "    print(\"\\n\\n\")\n",
    "\n",
    "# Add constraints \"x_i + y_j - x_i*y_j >= 3\". Asssume x_i and y_j are continuous\n",
    "n, m = 5, 4\n",
    "with gp.Model(\"model\") as model:\n",
    "    x = model.addVars(n, name=\"x\")\n",
    "    y = model.addVars(m, name=\"y\")\n",
    "\n",
    "    for i in range(n):\n",
    "        for j in range(m):\n",
    "            model.addConstr(x[i] + y[j] - x[i] * y[j] >= 3, name=f\"c_{i}{j}\")\n",
    "\n",
    "    model.update()\n",
    "\n",
    "    # Print the LHS, Sense, and RHS of all c_ij constraints\n",
    "    for c in model.getQConstrs():\n",
    "        print(f\"Name: {c.QCName}\")\n",
    "        print(f\"\\tRHS, sense = {c.QCRHS}, {c.QCSense}\")\n",
    "        print(f\"\\trow: {model.getQCRow(c)}\")"
   ]
  },
  {
   "cell_type": "markdown",
   "id": "5c10a7ef",
   "metadata": {
    "slideshow": {
     "slide_type": "slide"
    }
   },
   "source": [
    "## [Model.addConstrs](https://www.gurobi.com/documentation/10.0/refman/py_model_addconstrs.html)\n",
    "\n",
    "To add multiple constraints to the model, use the Model.addConstrs() method which returns a Gurobi tupledict that contains the newly created constraints:\n",
    "\n",
    "```\n",
    "Model.addConstrs(generator, name=\"\")\n",
    "```"
   ]
  },
  {
   "cell_type": "code",
   "execution_count": 11,
   "id": "2a89c7de",
   "metadata": {
    "slideshow": {
     "slide_type": "fragment"
    }
   },
   "outputs": [
    {
     "name": "stdout",
     "output_type": "stream",
     "text": [
      "['c[0,a]', 'c[0,b]', 'c[0,c]', 'c[1,a]', 'c[1,b]', 'c[1,c]', 'c[2,a]', 'c[2,b]', 'c[2,c]', 'c[3,a]', 'c[3,b]', 'c[3,c]', 'c[4,a]', 'c[4,b]', 'c[4,c]']\n"
     ]
    }
   ],
   "source": [
    "import gurobipy as gp\n",
    "from gurobipy import GRB\n",
    "\n",
    "# Add constraints x_i + y_j <= 1 for all (i, j). Assume x_i and y_j are binary variables\n",
    "I = range(5)\n",
    "J = [\"a\", \"b\", \"c\"]\n",
    "with gp.Model(\"model\") as model:\n",
    "    x = model.addVars(I, vtype=GRB.BINARY, name=\"x\")\n",
    "    y = model.addVars(J, vtype=GRB.BINARY, name=\"y\")\n",
    "\n",
    "    generator = (x[i] + y[j] <= 1 for i in I for j in J)\n",
    "    model.addConstrs(generator, name=\"c\")\n",
    "    model.update() \n",
    "\n",
    "    # Print constraint names\n",
    "    print(model.getAttr(\"ConstrName\", model.getConstrs())) "
   ]
  },
  {
   "cell_type": "markdown",
   "id": "94fc3d89",
   "metadata": {
    "slideshow": {
     "slide_type": "slide"
    }
   },
   "source": [
    "## Objective Function\n",
    "\n",
    "To set the model objective equal to a linear or a quadratic expression, use the [Model.setObjective()](https://www.gurobi.com/documentation/10.0/refman/py_model_setobjective.html) method:\n",
    "```\n",
    "Model.setObjective(expr, sense=GRB.MINIMIZE)\n",
    "```\n",
    "- expr: \n",
    "    - [LinExpr()](https://www.gurobi.com/documentation/10.0/refman/py_lex.html): constant + coefficient-variable pairs capturing linear terms\n",
    "    - [QuadExpr()](https://www.gurobi.com/documentation/10.0/refman/py_qex.html): linear expression + list of coefficient-variable-variable triples\n",
    "- sense:\n",
    "    - GRB.MINIMIZE (default) or GRB.MAXIMIZE"
   ]
  },
  {
   "cell_type": "code",
   "execution_count": 12,
   "id": "29dbc512",
   "metadata": {
    "slideshow": {
     "slide_type": "fragment"
    }
   },
   "outputs": [
    {
     "name": "stdout",
     "output_type": "stream",
     "text": [
      "obj: 0.05288669663417955 x[0] + 0.27989425776130816 x[1] + 0.43352600642941674 x[2] + 0.7016829609094273 x[3] + 0.28212930149970794 x[4] + 0.39139694120483626 x[5] + 0.7010686439617912 x[6] + 0.28555771250621376 x[7] + 0.27761236121979105 x[8] + 0.789212412933084 x[9]\n",
      "\n",
      "obj: 0.0 + [ 0.1802147488309761 x[0] ^ 2 + 0.8320565582247315 x[0] * x[1] + 1.3306527343269536 x[0] * x[2] + 1.1291328881981033 x[0] * x[3] + 1.3290170266082697 x[0] * x[4] + 0.8762234176308857 x[0] * x[5] + 0.30281872913123276 x[0] * x[6] + 0.9698455109230804 x[0] * x[7] + 1.5269499207629402 x[0] * x[8] + 0.43916719795536274 x[0] * x[9] + 0.7853746113477726 x[1] ^ 2 + 1.2071590566662422 x[1] * x[2] + 1.1051676864770177 x[1] * x[3] + 1.1158388643441488 x[1] * x[4] + 0.3277014574863678 x[1] * x[5] + 1.5149324932432322 x[1] * x[6] + 0.9003364349250115 x[1] * x[7] + 1.3829473579166014 x[1] * x[8] + 1.8485058884086372 x[1] * x[9] + 0.06387155791157151 x[2] ^ 2 + 1.6892959719684872 x[2] * x[3] + 1.7029641069208776 x[2] * x[4] + 1.100338937288595 x[2] * x[5] + 0.5708494109929666 x[2] * x[6] + 0.8427570898087817 x[2] * x[7] + 1.38654886608825 x[2] * x[8] + 1.3161384678810997 x[2] * x[9] + 0.7863362482104012 x[3] ^ 2 + 1.4584235827803154 x[3] * x[4] + 0.9951842047524082 x[3] * x[5] + 0.8617368274738224 x[3] * x[6] + 1.0531101516500077 x[3] * x[7] + 0.8819280979617802 x[3] * x[8] + 0.9158615095953409 x[3] * x[9] + 0.30441037669613524 x[4] ^ 2 + 1.1604233425764792 x[4] * x[5] + 1.1597947194007001 x[4] * x[6] + 0.6703693734996538 x[4] * x[7] + 0.7853329981371096 x[4] * x[8] + 0.9457238220880609 x[4] * x[9] + 0.4340491215070147 x[5] ^ 2 + 1.4034764522842678 x[5] * x[6] + 0.3314558705674193 x[5] * x[7] + 0.987411121762763 x[5] * x[8] + 1.914242225627512 x[5] * x[9] + 0.9022436070791072 x[6] ^ 2 + 1.5474819834000826 x[6] * x[7] + 0.7243670596973385 x[6] * x[8] + 0.7463067492532717 x[6] * x[9] + 0.8572296069092887 x[7] ^ 2 + 1.6051488135846976 x[7] * x[8] + 1.5395009679691956 x[7] * x[9] + 0.44065874262982785 x[8] ^ 2 + 1.2919753138845254 x[8] * x[9] + 0.7147379102976438 x[9] ^ 2 ]\n"
     ]
    }
   ],
   "source": [
    "import gurobipy as gp\n",
    "from gurobipy import GRB\n",
    "\n",
    "import numpy as np\n",
    "\n",
    "# Add linear objectives in the form c^Tx and quadratic objective in the form x^T Q x\n",
    "n = 10\n",
    "c = np.random.rand(n)\n",
    "Q = np.random.rand(n, n)\n",
    "\n",
    "with gp.Model(\"model\") as model:\n",
    "    x = model.addVars(n, name=\"x\")\n",
    "    linexpr = gp.quicksum(c[i] * x[i] for i in range(n))\n",
    "    # linexpr = gp.quicksum(c_i * x_i for c_i, x_i in zip(c, x.values()))\n",
    "    model.setObjective(linexpr)\n",
    "    model.update()\n",
    "\n",
    "    # Print objective expression\n",
    "    obj = model.getObjective()\n",
    "    print(f\"obj: {obj}\")\n",
    "\n",
    "with gp.Model(\"model\") as model:\n",
    "    x = model.addVars(n, name=\"x\")\n",
    "    quadexpr = 0\n",
    "    for i in range(n):\n",
    "        for j in range(n):\n",
    "            quadexpr += x[i] * Q[i, j] * x[j]\n",
    "    model.setObjective(quadexpr)\n",
    "    model.update()\n",
    "\n",
    "    # Print objective expression\n",
    "    obj = model.getObjective()\n",
    "    print(f\"\\nobj: {obj}\")"
   ]
  },
  {
   "cell_type": "markdown",
   "id": "710b16b1",
   "metadata": {
    "slideshow": {
     "slide_type": "slide"
    }
   },
   "source": [
    "## [Attributes](https://www.gurobi.com/documentation/10.0/refman/attributes.html)\n",
    "\n",
    "The primary mechanism for querying and modifying properties of a Gurobi object is through the attribute interface. You can see the complete set of Gurobi attributes in the reference linked above.\n",
    "\n",
    "Let us see an example of how to query useful attributes on the model object after the optimization is complete."
   ]
  },
  {
   "cell_type": "code",
   "execution_count": 14,
   "id": "c4b6b335",
   "metadata": {
    "slideshow": {
     "slide_type": "fragment"
    }
   },
   "outputs": [
    {
     "name": "stdout",
     "output_type": "stream",
     "text": [
      "Error: No compression tool available to open data/glass4.mps.bz2, please install \"bzip2\" or \"7-zip\"\n",
      "No compression tool available to open data/glass4.mps.bz2, please install \"bzip2\" or \"7-zip\"\n"
     ]
    },
    {
     "ename": "GurobiError",
     "evalue": "Unable to read model",
     "output_type": "error",
     "traceback": [
      "\u001b[1;31m---------------------------------------------------------------------------\u001b[0m",
      "\u001b[1;31mGurobiError\u001b[0m                               Traceback (most recent call last)",
      "Cell \u001b[1;32mIn[14], line 4\u001b[0m\n\u001b[0;32m      1\u001b[0m \u001b[38;5;28;01mimport\u001b[39;00m \u001b[38;5;21;01mgurobipy\u001b[39;00m \u001b[38;5;28;01mas\u001b[39;00m \u001b[38;5;21;01mgp\u001b[39;00m\n\u001b[0;32m      2\u001b[0m \u001b[38;5;28;01mfrom\u001b[39;00m \u001b[38;5;21;01mgurobipy\u001b[39;00m \u001b[38;5;28;01mimport\u001b[39;00m GRB\n\u001b[1;32m----> 4\u001b[0m \u001b[38;5;28;01mwith\u001b[39;00m \u001b[43mgp\u001b[49m\u001b[38;5;241;43m.\u001b[39;49m\u001b[43mread\u001b[49m\u001b[43m(\u001b[49m\u001b[38;5;124;43m\"\u001b[39;49m\u001b[38;5;124;43mdata/glass4.mps.bz2\u001b[39;49m\u001b[38;5;124;43m\"\u001b[39;49m\u001b[43m)\u001b[49m \u001b[38;5;28;01mas\u001b[39;00m model:\n\u001b[0;32m      5\u001b[0m     model\u001b[38;5;241m.\u001b[39moptimize()\n\u001b[0;32m      7\u001b[0m     \u001b[38;5;28mprint\u001b[39m(\u001b[38;5;124m\"\u001b[39m\u001b[38;5;124m****************** SOLUTION ******************\u001b[39m\u001b[38;5;124m\"\u001b[39m)\n",
      "File \u001b[1;32msrc\\gurobipy\\gurobi.pxi:3647\u001b[0m, in \u001b[0;36mgurobipy.read\u001b[1;34m()\u001b[0m\n",
      "File \u001b[1;32msrc\\gurobipy\\gurobi.pxi:86\u001b[0m, in \u001b[0;36mgurobipy.gurobi.read\u001b[1;34m()\u001b[0m\n",
      "\u001b[1;31mGurobiError\u001b[0m: Unable to read model"
     ]
    }
   ],
   "source": [
    "import gurobipy as gp\n",
    "from gurobipy import GRB\n",
    "\n",
    "with gp.read(\"data/glass4.mps.bz2\") as model:\n",
    "    model.optimize()\n",
    "\n",
    "    print(\"****************** SOLUTION ******************\")\n",
    "    print(f\"\\tStatus       : {model.Status}\")\n",
    "    print(f\"\\tObj          : {model.ObjVal}\")\n",
    "    print(f\"\\tSolutionCount: {model.SolCount}\")\n",
    "    print(f\"\\tRuntime      : {model.Runtime}\")\n",
    "    print(f\"\\tMIPGap       : {model.MIPGap}\")\n",
    "\n",
    "    print(\"\\n\")\n",
    "    for var in model.getVars()[:20]:\n",
    "        print(f\"\\t{var.VarName} = {var.X}\")"
   ]
  },
  {
   "cell_type": "markdown",
   "id": "ce180f81",
   "metadata": {
    "slideshow": {
     "slide_type": "slide"
    }
   },
   "source": [
    "## [Parameters](https://www.gurobi.com/documentation/10.0/refman/parameter_descriptions.html)\n",
    "Parameters control the mechanics of the Gurobi Optimizer."
   ]
  },
  {
   "cell_type": "code",
   "execution_count": 15,
   "id": "0f3f0755",
   "metadata": {
    "slideshow": {
     "slide_type": "fragment"
    }
   },
   "outputs": [
    {
     "name": "stdout",
     "output_type": "stream",
     "text": [
      "Error: No compression tool available to open data/glass4.mps.bz2, please install \"bzip2\" or \"7-zip\"\n",
      "No compression tool available to open data/glass4.mps.bz2, please install \"bzip2\" or \"7-zip\"\n"
     ]
    },
    {
     "ename": "GurobiError",
     "evalue": "Unable to read model",
     "output_type": "error",
     "traceback": [
      "\u001b[1;31m---------------------------------------------------------------------------\u001b[0m",
      "\u001b[1;31mGurobiError\u001b[0m                               Traceback (most recent call last)",
      "Cell \u001b[1;32mIn[15], line 4\u001b[0m\n\u001b[0;32m      1\u001b[0m \u001b[38;5;28;01mimport\u001b[39;00m \u001b[38;5;21;01mgurobipy\u001b[39;00m \u001b[38;5;28;01mas\u001b[39;00m \u001b[38;5;21;01mgp\u001b[39;00m\n\u001b[0;32m      2\u001b[0m \u001b[38;5;28;01mfrom\u001b[39;00m \u001b[38;5;21;01mgurobipy\u001b[39;00m \u001b[38;5;28;01mimport\u001b[39;00m GRB\n\u001b[1;32m----> 4\u001b[0m \u001b[38;5;28;01mwith\u001b[39;00m \u001b[43mgp\u001b[49m\u001b[38;5;241;43m.\u001b[39;49m\u001b[43mread\u001b[49m\u001b[43m(\u001b[49m\u001b[38;5;124;43m\"\u001b[39;49m\u001b[38;5;124;43mdata/glass4.mps.bz2\u001b[39;49m\u001b[38;5;124;43m\"\u001b[39;49m\u001b[43m)\u001b[49m \u001b[38;5;28;01mas\u001b[39;00m model:\n\u001b[0;32m      5\u001b[0m     model\u001b[38;5;241m.\u001b[39mparams\u001b[38;5;241m.\u001b[39mThreads \u001b[38;5;241m=\u001b[39m \u001b[38;5;241m1\u001b[39m\n\u001b[0;32m      6\u001b[0m     model\u001b[38;5;241m.\u001b[39mparams\u001b[38;5;241m.\u001b[39mTimeLimit \u001b[38;5;241m=\u001b[39m \u001b[38;5;241m10\u001b[39m\n",
      "File \u001b[1;32msrc\\gurobipy\\gurobi.pxi:3647\u001b[0m, in \u001b[0;36mgurobipy.read\u001b[1;34m()\u001b[0m\n",
      "File \u001b[1;32msrc\\gurobipy\\gurobi.pxi:86\u001b[0m, in \u001b[0;36mgurobipy.gurobi.read\u001b[1;34m()\u001b[0m\n",
      "\u001b[1;31mGurobiError\u001b[0m: Unable to read model"
     ]
    }
   ],
   "source": [
    "import gurobipy as gp\n",
    "from gurobipy import GRB\n",
    "\n",
    "with gp.read(\"data/glass4.mps.bz2\") as model:\n",
    "    model.params.Threads = 1\n",
    "    model.params.TimeLimit = 10\n",
    "    model.optimize()"
   ]
  },
  {
   "cell_type": "markdown",
   "id": "516f5c91",
   "metadata": {
    "slideshow": {
     "slide_type": "slide"
    }
   },
   "source": [
    "## [General Constraints](https://www.gurobi.com/documentation/10.0/refman/constraints.html#subsubsection:GeneralConstraints)\n",
    "\n",
    "General constraints allow defining certain variable relationships easily without going to the hardship of modeling these relationships in terms of the more fundamental constraints of MIP. Capturing a single one of these general constraints can often require a large set of constraints and a number of auxiliary decision variables.\n",
    "\n",
    "- __Simple General Constraints__: \n",
    "    - $z = \\mbox{max(x, y, 3)}$: `model.addConstr(z == max_(x, y, constant=3))`\n",
    "    - $z = \\mbox{min(x, y, 3)}$: `model.addConstr(z == min_(x, y, constant=3))`\n",
    "    - $y = \\mbox{abs(x)}$: `model.addConstr(y == abs_(x))`\n",
    "    - $z = x \\land y$: `model.addConstr(z == and_(x, y))`\n",
    "    - $z = x \\lor y$: `model.addConstr(z == or_(x, y))`\n",
    "    - $z = ||x||_p, ~~ p = 0, 1, 2, \\infty$: `model.addConstr(nx == norm(x, 1.0))`\n",
    "    - indicator: \n",
    "        -  $x_0 = 1 -> x_1 + 2 x_2 + x_3 \\leq 1$\n",
    "            - `model.addGenConstrIndicator(x0, 1, x1 + 2*x2 + x3 <= 1)`\n",
    "            - `model.addConstr((x0 == 1) >> (x1 + 2*x2 + x3 <= 1))`\n",
    "    - piece-wise linear:\n",
    "        - `model.addGenConstrPWL(x, y, [0, 1, 2], [1.5, 0, 3], \"\")`\n",
    "- __Function Constraints__: \n",
    "    - $y = p_0x^n + p_1x^{n-1} + \\ldots + p_nx+ p_{n+1}$:\n",
    "        - $y = 2 x^3 + 1.5 x^2 + 1$\n",
    "          - `model.addGenConstrPoly(x, y, [2, 1.5, 0, 1])`\n",
    "    - $y = e^x$: `model.addGenConstrExp(x, y)`\n",
    "    - $y = a^x$: `model.addGenConstrExpA(x, y, a)`\n",
    "    - $y = \\ln(x)$: `model.addGenConstrLog(x, y)`\n",
    "    - $y = \\log_a(x)$: `model.addGenConstrLogA(x, y, a)`\n",
    "    - $y = \\frac{1}{1+e^{-x}}$: `model.addGenConstrLogistic(x, y)`\n",
    "    - $y = x^a$: `model.addGenConstrPow(x, y, a)`\n",
    "    - $y = \\sin(x)$: `model.addGenConstrSin(x, y)`\n",
    "    - $y = \\cos(x)$: `model.addGenConstrCos(x, y)`\n",
    "    - $y = \\tan(x)$: `model.addGenConstrTan(x, y)`\n",
    "   \n",
    "\n",
    "Gurobi will automatically add a piecewise-linear approximation of the function to the model. "
   ]
  },
  {
   "cell_type": "code",
   "execution_count": 16,
   "id": "d8e9e499",
   "metadata": {
    "slideshow": {
     "slide_type": "fragment"
    }
   },
   "outputs": [
    {
     "name": "stdout",
     "output_type": "stream",
     "text": [
      "Set parameter FuncPieces to value 1\n",
      "Set parameter FuncPieceLength to value 0.001\n",
      "Gurobi Optimizer version 10.0.2 build v10.0.2rc0 (win64)\n",
      "\n",
      "CPU model: AMD Ryzen 7 5800H with Radeon Graphics, instruction set [SSE2|AVX|AVX2]\n",
      "Thread count: 8 physical cores, 16 logical processors, using up to 16 threads\n",
      "\n",
      "Optimize a model with 1 rows, 4 columns and 2 nonzeros\n",
      "Model fingerprint: 0x741a3617\n",
      "Model has 2 general constraints\n",
      "Variable types: 4 continuous, 0 integer (0 binary)\n",
      "Coefficient statistics:\n",
      "  Matrix range     [1e+00, 4e+00]\n",
      "  Objective range  [1e+00, 2e+00]\n",
      "  Bounds range     [0e+00, 0e+00]\n",
      "  RHS range        [9e+00, 9e+00]\n",
      "Presolve added 6 rows and 7263 columns\n",
      "Presolve time: 0.04s\n",
      "Presolved: 7 rows, 7267 columns, 21791 nonzeros\n",
      "Presolved model has 2 SOS constraint(s)\n",
      "Variable types: 7267 continuous, 0 integer (0 binary)\n",
      "\n",
      "Root relaxation: objective 5.599522e+00, 8 iterations, 0.00 seconds (0.00 work units)\n",
      "\n",
      "    Nodes    |    Current Node    |     Objective Bounds      |     Work\n",
      " Expl Unexpl |  Obj  Depth IntInf | Incumbent    BestBd   Gap | It/Node Time\n",
      "\n",
      "     0     0    5.59952    0    1          -    5.59952      -     -    0s\n",
      "     0     0    5.59937    0    1          -    5.59937      -     -    0s\n",
      "     0     0    5.59907    0    1          -    5.59907      -     -    0s\n",
      "     0     0    5.59877    0    1          -    5.59877      -     -    0s\n",
      "     0     0    5.59846    0    1          -    5.59846      -     -    0s\n",
      "     0     0    5.59816    0    1          -    5.59816      -     -    0s\n",
      "     0     0    5.59786    0    1          -    5.59786      -     -    0s\n",
      "     0     0    5.59756    0    1          -    5.59756      -     -    0s\n",
      "     0     0    5.59725    0    1          -    5.59725      -     -    0s\n",
      "     0     0    5.59695    0    1          -    5.59695      -     -    0s\n",
      "     0     0    5.59665    0    1          -    5.59665      -     -    0s\n",
      "     0     0    5.59635    0    1          -    5.59635      -     -    0s\n",
      "     0     2    5.59635    0    1          -    5.59635      -     -    0s\n",
      "*    7    10               3       4.1766080    4.49497  7.62%  31.4    0s\n",
      "*    9    10               3       4.2732288    4.49497  5.19%  44.6    0s\n",
      "*   13    10               3       4.3944492    4.48124  1.98%  35.8    0s\n",
      "*   18    13               4       4.4329463    4.48124  1.09%  30.2    0s\n",
      "*   28    12               5       4.4698133    4.47386  0.09%  21.1    0s\n",
      "*   40    16               7       4.4727583    4.47375  0.02%  15.4    0s\n",
      "*   55    20               9       4.4735888    4.47362  0.00%  12.4    0s\n",
      "\n",
      "Explored 68 nodes (717 simplex iterations) in 0.17 seconds (0.16 work units)\n",
      "Thread count was 16 (of 16 available processors)\n",
      "\n",
      "Solution count 7: 4.47359 4.47276 4.46981 ... 4.17661\n",
      "\n",
      "Optimal solution found (tolerance 1.00e-04)\n",
      "Best objective 4.473588765714e+00, best bound 4.473604998779e+00, gap 0.0004%\n",
      "****************** SOLUTION ******************\n",
      "x = 0.8947943828571084, u = 2.446832826792834\n",
      "y = 2.684, v = 1.6382917933017915\n",
      "Obj = 4.473588765714217\n",
      "Vio = 0\n"
     ]
    }
   ],
   "source": [
    "# Consider the following nonconvex nonlinear problem\n",
    "#\n",
    "#  maximize    2 x    + y\n",
    "#  subject to  exp(x) + 4 sqrt(y) <= 9\n",
    "#              x, y >= 0\n",
    "\n",
    "import gurobipy as gp\n",
    "from gurobipy import GRB\n",
    "import math\n",
    "\n",
    "with gp.Model(\"model\") as model:\n",
    "    x = model.addVar(name=\"x\")\n",
    "    y = model.addVar(name=\"y\")\n",
    "    u = model.addVar(name=\"u\")\n",
    "    v = model.addVar(name=\"v\")\n",
    "\n",
    "    # Set objective\n",
    "    model.setObjective(2 * x + y, GRB.MAXIMIZE)\n",
    "\n",
    "    # u = exp(x)\n",
    "    gcf1 = model.addGenConstrExp(x, u, name=\"gcf1\")\n",
    "    # v = y^(0.5)\n",
    "    gcf2 = model.addGenConstrPow(y, v, 0.5, name=\"gcf2\")\n",
    "    c = model.addConstr(u + 4 * v <= 9)\n",
    "\n",
    "    # Use the equal piece length approach with the length = 1e-3\n",
    "    model.Params.FuncPieces = 1\n",
    "    model.Params.FuncPieceLength = 1e-3\n",
    "\n",
    "    # Optimize the model\n",
    "    model.optimize()\n",
    "\n",
    "    print(\"****************** SOLUTION ******************\")\n",
    "    print(f\"x = {x.X}, u = {u.X}\")\n",
    "    print(f\"y = {y.X}, v = {v.X}\")\n",
    "    print(f\"Obj = {model.ObjVal}\")\n",
    "\n",
    "    # Calculate violation of exp(x) + 4 sqrt(y) <= 9\n",
    "    vio = math.exp(x.X) + 4 * math.sqrt(y.X) - 9\n",
    "    if vio < 0:\n",
    "        vio = 0\n",
    "    print(f\"Vio = {vio}\")"
   ]
  },
  {
   "cell_type": "markdown",
   "id": "ca333a72",
   "metadata": {
    "slideshow": {
     "slide_type": "slide"
    }
   },
   "source": [
    "## Example: Portfolio Optimization\n",
    "\n",
    "In a portfolio optimization problem, there are $n$ assets. Each asset $i$ is associated with an expected return $\\mu_i$ and each pair of assets $(i, j)$ has a covariance (risk) $\\sigma_{ij}$. The goal is to find the optimal fraction of the portfolio invested in each asset to minimize the risk of investment such that 1) the total expected return of the investment exceeds the minimum target return $\\mu_0$ and 2) the portfolio invests in at most $k \\leq n$ assets.\n",
    "\n",
    "- $x_i$: Relative investment in asset $i$\n",
    "- $y_i$: Binary variable controlling whether asset $i$ is traded\n",
    "\n",
    "\\begin{align}\n",
    "\\mbox{minimize} \\quad & \\sum_{i=1}^{n} \\sum_{j=1}^{n} \\sigma_{ij} x_i x_j & \\notag \\\\\n",
    "\\mbox{subject to} \\quad & \\sum_{i=1}^{n} \\mu_i x_i \\geq \\mu_0 & \\notag \\\\\n",
    "                        & \\sum_{i=1}^{n} x_i = 1 & \\notag \\\\\n",
    "                        & \\sum_{i=1}^{n} y_i \\leq k & \\notag \\\\\n",
    "                        & x_i \\leq y_i & i=1, \\ldots, n \\notag \\\\\n",
    "                        & 0 \\leq x_i \\leq 1 & i=1, \\ldots, n \\notag \\\\\n",
    "                        & y_i \\in \\{0, 1\\} & i=1, \\ldots, n \\notag\n",
    "\\end{align}"
   ]
  },
  {
   "cell_type": "code",
   "execution_count": 17,
   "id": "d357f1c2",
   "metadata": {
    "slideshow": {
     "slide_type": "fragment"
    }
   },
   "outputs": [],
   "source": [
    "import json\n",
    "import numpy as np\n",
    "\n",
    "with open(\"data/portfolio-example.json\", \"r\") as f:\n",
    "    data = json.load(f)\n",
    "\n",
    "n = data[\"num_assets\"]\n",
    "sigma = np.array(data[\"covariance\"])\n",
    "mu = np.array(data[\"expected_return\"])\n",
    "mu_0 = data[\"target_return\"]\n",
    "k = data[\"portfolio_max_size\"]"
   ]
  },
  {
   "cell_type": "code",
   "execution_count": 18,
   "id": "7364ac9c",
   "metadata": {
    "slideshow": {
     "slide_type": "fragment"
    }
   },
   "outputs": [
    {
     "name": "stdout",
     "output_type": "stream",
     "text": [
      "Gurobi Optimizer version 10.0.2 build v10.0.2rc0 (win64)\n",
      "\n",
      "CPU model: AMD Ryzen 7 5800H with Radeon Graphics, instruction set [SSE2|AVX|AVX2]\n",
      "Thread count: 8 physical cores, 16 logical processors, using up to 16 threads\n",
      "\n",
      "Optimize a model with 23 rows, 40 columns and 100 nonzeros\n",
      "Model fingerprint: 0x755216b2\n",
      "Model has 210 quadratic objective terms\n",
      "Variable types: 20 continuous, 20 integer (20 binary)\n",
      "Coefficient statistics:\n",
      "  Matrix range     [1e-04, 1e+00]\n",
      "  Objective range  [0e+00, 0e+00]\n",
      "  QObjective range [7e-06, 4e-03]\n",
      "  Bounds range     [1e+00, 1e+00]\n",
      "  RHS range        [1e-04, 2e+01]\n",
      "Found heuristic solution: objective 0.0000960\n",
      "Presolve time: 0.00s\n",
      "Presolved: 23 rows, 40 columns, 100 nonzeros\n",
      "Presolved model has 210 quadratic objective terms\n",
      "Variable types: 20 continuous, 20 integer (20 binary)\n",
      "\n",
      "Root relaxation: objective 6.741224e-05, 38 iterations, 0.00 seconds (0.00 work units)\n",
      "\n",
      "    Nodes    |    Current Node    |     Objective Bounds      |     Work\n",
      " Expl Unexpl |  Obj  Depth IntInf | Incumbent    BestBd   Gap | It/Node Time\n",
      "\n",
      "     0     0    0.00007    0   11    0.00010    0.00007  29.8%     -    0s\n",
      "H    0     0                       0.0000674    0.00007  0.00%     -    0s\n",
      "     0     0    0.00007    0   11    0.00007    0.00007  0.00%     -    0s\n",
      "\n",
      "Explored 1 nodes (38 simplex iterations) in 0.02 seconds (0.00 work units)\n",
      "Thread count was 16 (of 16 available processors)\n",
      "\n",
      "Solution count 2: 6.74122e-05 9.60284e-05 \n",
      "\n",
      "Optimal solution found (tolerance 1.00e-04)\n",
      "Best objective 6.741224163915e-05, best bound 6.741224163915e-05, gap 0.0000%\n",
      "          Portfolio\n",
      "asset_0    0.000000\n",
      "asset_1    0.000000\n",
      "asset_2    0.000000\n",
      "asset_3    0.000000\n",
      "asset_4    0.006812\n",
      "asset_5    0.034594\n",
      "asset_6    0.000000\n",
      "asset_7    0.000000\n",
      "asset_8    0.409840\n",
      "asset_9    0.026759\n",
      "asset_10   0.000000\n",
      "asset_11   0.027722\n",
      "asset_12   0.039911\n",
      "asset_13   0.030221\n",
      "asset_14   0.038511\n",
      "asset_15   0.000000\n",
      "asset_16   0.184718\n",
      "asset_17   0.000000\n",
      "asset_18   0.126673\n",
      "asset_19   0.074241\n",
      "risk       0.000067\n",
      "return     0.000104\n"
     ]
    }
   ],
   "source": [
    "import gurobipy as gp\n",
    "from gurobipy import GRB\n",
    "\n",
    "# Write the solution to a pandas.DataFrame\n",
    "import pandas as pd\n",
    "\n",
    "with gp.Model(\"term-based\") as model:\n",
    "    x = model.addVars(n, ub=1, name=\"x\")\n",
    "    y = model.addVars(n, vtype=GRB.BINARY, name=\"y\")\n",
    "\n",
    "    risk = gp.quicksum(x[i] * sigma[i, j] * x[j] for i in range(n) for j in range(n))\n",
    "    # Another approach to build the risk expression \n",
    "    # risk = gp.QuadExpr()\n",
    "    # for i in range(n):\n",
    "    #    for j in range(n):\n",
    "    #        risk.addTerms(sigma[i, j], x[i], x[j])\n",
    "    model.setObjective(risk)\n",
    "\n",
    "    expected_return = gp.quicksum(mu[i] * x[i] for i in range(n))\n",
    "    model.addConstr(expected_return >= mu_0, name=\"return\")\n",
    "\n",
    "    model.addConstr(x.sum() == 1, name=\"budget\")\n",
    "    # Another approach to build the budget constraint\n",
    "    # model.addConstr(gp.quicksum(x[i] for i in range(n)) == 1, name=\"budget\")\n",
    "\n",
    "    model.addConstr(y.sum() <= k, name=\"cardinality\")\n",
    "\n",
    "    model.addConstrs((x[i] <= y[i] for i in range(n)), name=\"is_allocated\")\n",
    "\n",
    "    model.optimize()\n",
    "\n",
    "    # Write the solution into a DataFrame\n",
    "    portfolio = [var.X for var in model.getVars() if \"x\" in var.VarName]\n",
    "    risk = model.ObjVal\n",
    "    expected_return = model.getRow(model.getConstrByName(\"return\")).getValue()\n",
    "    df = pd.DataFrame(\n",
    "        data=portfolio + [risk, expected_return],\n",
    "        index=[f\"asset_{i}\" for i in range(n)] + [\"risk\", \"return\"],\n",
    "        columns=[\"Portfolio\"],\n",
    "    )\n",
    "\n",
    "    print(df)"
   ]
  },
  {
   "cell_type": "markdown",
   "id": "9b4a3d7b",
   "metadata": {
    "slideshow": {
     "slide_type": "slide"
    }
   },
   "source": [
    "## Best Practices\n",
    "\n",
    "- Do ensure the separation between your model and data\n",
    "- Do use descriptive names where appropriate\n",
    "- Exploit sparsity when creating variables/constraints - Only create variables/constraints for valid combinations\n",
    "- Do consider using the Package [gurobipy stubs](https://support.gurobi.com/hc/en-us/articles/4415139954449-How-do-I-enable-type-hinting-in-the-Gurobi-Python-API-) for Type Hinting\n",
    "- Don’t forget to dispose of your model and environment\n",
    "- Use the documentation"
   ]
  },
  {
   "cell_type": "markdown",
   "id": "23b7b060",
   "metadata": {
    "slideshow": {
     "slide_type": "slide"
    }
   },
   "source": [
    "## [Card Game](https://www.gurobi.com/resources/optimization-gamification-introducing-the-gurobipy-card-game/)\n",
    "\n",
    "\n",
    "<img src=\"./images/card-game.png\" width=\"800\" height=\"600\" style=\"margin-left:auto; margin-right:auto\"/>\n"
   ]
  },
  {
   "cell_type": "markdown",
   "id": "60f61c5e",
   "metadata": {
    "slideshow": {
     "slide_type": "slide"
    }
   },
   "source": [
    "## Resources\n",
    "- [Gurobi Python Documentation](https://www.gurobi.com/documentation/10.0/refman/py_python_api_overview.html)\n",
    "- [Gurobi Python Examples](https://www.gurobi.com/documentation/10.0/examples/python_examples.html)\n",
    "- [Gurobi Jupyter Notebook Modeling Examples](https://www.gurobi.com/jupyter_models/)\n",
    "- [Gurobi Knowledge Base](https://support.gurobi.com/hc/en-us/categories/360000840331-Knowledge-Base)"
   ]
  }
 ],
 "metadata": {
  "celltoolbar": "Slideshow",
  "kernelspec": {
   "display_name": "Python 3 (ipykernel)",
   "language": "python",
   "name": "python3"
  },
  "language_info": {
   "codemirror_mode": {
    "name": "ipython",
    "version": 3
   },
   "file_extension": ".py",
   "mimetype": "text/x-python",
   "name": "python",
   "nbconvert_exporter": "python",
   "pygments_lexer": "ipython3",
   "version": "3.9.17"
  },
  "vscode": {
   "interpreter": {
    "hash": "aee8b7b246df8f9039afb4144a1f6fd8d2ca17a180786b69acc140d282b71a49"
   }
  }
 },
 "nbformat": 4,
 "nbformat_minor": 5
}
