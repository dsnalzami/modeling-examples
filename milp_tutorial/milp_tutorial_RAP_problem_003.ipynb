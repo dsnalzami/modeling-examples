{
 "cells": [
  {
   "cell_type": "markdown",
   "metadata": {},
   "source": [
    "# Resource Assignment Problem formulation\n",
    "\n",
    "Consider three job positions: Tester, Java-Developer, and Architect.\n",
    "\n",
    "Consider three resources: Carlos, Joe, and Monika.\n",
    "\n",
    "## Data \n",
    "\n",
    "The ability to perform each of the jobs by each of the resources is illustrated by the following matching scores table:\n",
    "\n",
    "![Resource Allocation Problem Data Image](util/rap_data.png)\n",
    "\n",
    "\n",
    "**Assumption**: Only one resource can be assigned to a job, and only one job can be assigned to a resource.\n",
    "\n",
    "## Problem statement\n",
    "\n",
    "Determine an assignment that ensures that each job is fulfilled and each resource is assigned to at most one job in order to maximize the total matching scores of the assignments.\n",
    "\n",
    "## Decision variables\n",
    "\n",
    "The decision variable $x_{r,\\; j} = 1$ represents that resource r is assigned to job j, and 0 otherwise, for  r=1,2,3 and 𝑗=1,2,3.\n",
    "\n",
    "## Constraints\n",
    "\n",
    "### Jobs constraints\n",
    "\n",
    "For each job 𝑗=1,2,3, exactly one resource from r=1,2,3 must be assigned.\n",
    "\n",
    "Constraint (Tester=1): $x_{1,\\; 1} + x_{2,\\; 1} + x_{3,\\; 1} = 1$\n",
    "\n",
    "Constraint (Java-Developer=2): $x_{1,\\; 2} + x_{2,\\; 2} + x_{3,\\; 2} = 1$\n",
    "\n",
    "Constraint (Architect=3): $x_{1,\\; 3} + x_{2,\\; 3} + x_{3,\\; 3} = 1$\n",
    "\n",
    "### Resources constraints\n",
    "\n",
    "For each resource = r=1,2,3, at most one job from r=1,2,3 can be assigned.\n",
    "\n",
    "Constraint (Carlos=1): $x_{1,\\; 1} + x_{1,\\; 2} + x_{1,\\; 3}  \\leq 1$\n",
    "\n",
    "Constraint (Joe=2): $x_{2,\\; 1} + x_{2,\\; 2} + x_{2,\\; 3}  \\leq 1$\n",
    "\n",
    "Constraint (Monika=3): $x_{2,\\; 1} + x_{2,\\; 2} + x_{2,\\; 3}  \\leq 1$\n",
    "\n",
    "## Objective function\n",
    "\n",
    "The objective function is to maximize the total matching score of the assignments while satisfying the jobs and resources constraints.\n",
    "\n",
    "$$\n",
    "Max \\; (53x_{1,\\; 1} + 80x_{2,\\; 1} + 53x_{3,\\; 1}) + (27x_{1,\\; 2} + 47x_{2,\\; 2} + 73x_{3,\\; 2})\n",
    "+ (13x_{1,\\; 3} + 67x_{2,\\; 3} + 47x_{3,\\; 3})\n",
    "$$\n",
    "\n",
    "\n"
   ]
  },
  {
   "cell_type": "markdown",
   "metadata": {},
   "source": [
    "First, let's install a few packages as needed"
   ]
  },
  {
   "cell_type": "code",
   "execution_count": 1,
   "metadata": {},
   "outputs": [
    {
     "name": "stdout",
     "output_type": "stream",
     "text": [
      "Requirement already satisfied: gurobipy in c:\\users\\user\\anaconda3\\envs\\python39\\lib\\site-packages (10.0.2)\n"
     ]
    },
    {
     "name": "stderr",
     "output_type": "stream",
     "text": [
      "WARNING: Ignoring invalid distribution -illow (c:\\users\\user\\anaconda3\\envs\\python39\\lib\\site-packages)\n",
      "WARNING: Ignoring invalid distribution -illow (c:\\users\\user\\anaconda3\\envs\\python39\\lib\\site-packages)\n"
     ]
    },
    {
     "name": "stdout",
     "output_type": "stream",
     "text": [
      "Collecting names\n",
      "  Downloading names-0.3.0.tar.gz (789 kB)\n",
      "                                              0.0/789.1 kB ? eta -:--:--\n",
      "                                              10.2/789.1 kB ? eta -:--:--\n",
      "                                              10.2/789.1 kB ? eta -:--:--\n",
      "     -                                     41.0/789.1 kB 279.3 kB/s eta 0:00:03\n",
      "     ---                                   71.7/789.1 kB 435.7 kB/s eta 0:00:02\n",
      "     --------------                         307.2/789.1 kB 1.5 MB/s eta 0:00:01\n",
      "     ---------------------------------      686.1/789.1 kB 2.7 MB/s eta 0:00:01\n",
      "     -------------------------------------- 789.1/789.1 kB 2.9 MB/s eta 0:00:00\n",
      "  Preparing metadata (setup.py): started\n",
      "  Preparing metadata (setup.py): finished with status 'done'\n",
      "Building wheels for collected packages: names\n",
      "  Building wheel for names (setup.py): started\n",
      "  Building wheel for names (setup.py): finished with status 'done'\n",
      "  Created wheel for names: filename=names-0.3.0-py3-none-any.whl size=803712 sha256=69b61fd1d3cc19814f5c1b1c29cc503dcd324c5ba329ab28c8c0e65790627a47\n",
      "  Stored in directory: c:\\users\\user\\appdata\\local\\pip\\cache\\wheels\\f1\\bc\\04\\55ab9499ea02359ece8b02b4169ebb30aa52d82b84c13fc506\n",
      "Successfully built names\n",
      "Installing collected packages: names\n",
      "Successfully installed names-0.3.0\n"
     ]
    },
    {
     "name": "stderr",
     "output_type": "stream",
     "text": [
      "WARNING: Ignoring invalid distribution -illow (c:\\users\\user\\anaconda3\\envs\\python39\\lib\\site-packages)\n",
      "WARNING: Ignoring invalid distribution -illow (c:\\users\\user\\anaconda3\\envs\\python39\\lib\\site-packages)\n"
     ]
    },
    {
     "name": "stdout",
     "output_type": "stream",
     "text": [
      "Requirement already satisfied: numpy in c:\\users\\user\\anaconda3\\envs\\python39\\lib\\site-packages (1.25.0)\n"
     ]
    },
    {
     "name": "stderr",
     "output_type": "stream",
     "text": [
      "WARNING: Ignoring invalid distribution -illow (c:\\users\\user\\anaconda3\\envs\\python39\\lib\\site-packages)\n",
      "WARNING: Ignoring invalid distribution -illow (c:\\users\\user\\anaconda3\\envs\\python39\\lib\\site-packages)\n"
     ]
    }
   ],
   "source": [
    "!pip install gurobipy\n",
    "!pip install names\n",
    "!pip install numpy"
   ]
  },
  {
   "cell_type": "code",
   "execution_count": 2,
   "metadata": {},
   "outputs": [],
   "source": [
    "# import gurobi library\n",
    "from gurobipy import *"
   ]
  },
  {
   "cell_type": "markdown",
   "metadata": {},
   "source": [
    "## Data\n",
    "The list R contains the names of the three resources: Carlos, Joe, and Monika. \n",
    "\n",
    "The list J contains the names of the job positions: tester, java-developer, and architect.\n",
    "\n",
    "**Math notation**\n",
    "\n",
    "$r \\in R$ means that a resource with index r is in the set (list) R.\n",
    "\n",
    "$j \\in J$ means that a job with index j is in the set (list) J."
   ]
  },
  {
   "cell_type": "code",
   "execution_count": 3,
   "metadata": {},
   "outputs": [],
   "source": [
    "# resources and jobs sets\n",
    "R = ['Carlos', 'Joe', 'Monika']\n",
    "J = ['Tester', 'JavaDeveloper', 'Architect']"
   ]
  },
  {
   "cell_type": "markdown",
   "metadata": {},
   "source": [
    "The following “multidict” function describes the matching score associated with each possible combination of a resource and job.\n",
    "\n",
    "**Math notation**\n",
    "\n",
    "Let $ms_{r,\\;j}$ be the matching score of resource  $r \\in R$  with respect to job  $j \\in J$.\n",
    "\n",
    "Let $C_{r,\\;j}$ be the cost of assigning resource  $r \\in R$  to job  $j \\in J$.\n",
    "\n",
    "Let $B$ be the budget available."
   ]
  },
  {
   "cell_type": "code",
   "execution_count": 4,
   "metadata": {},
   "outputs": [],
   "source": [
    "# matching score data\n",
    "combinations, ms, C = multidict({\n",
    "    ('Carlos', 'Tester'): [53, 1],\n",
    "    ('Carlos', 'JavaDeveloper'): [27, 1],\n",
    "    ('Carlos', 'Architect'): [13,1],\n",
    "    ('Joe', 'Tester'): [80, 2],\n",
    "    ('Joe', 'JavaDeveloper'): [47, 2],\n",
    "    ('Joe', 'Architect'): [67, 2],\n",
    "    ('Monika', 'Tester'): [53, 3] ,\n",
    "    ('Monika', 'JavaDeveloper'): [73, 3],\n",
    "    ('Monika', 'Architect'): [47, 3]\n",
    "})\n",
    "\n",
    "# Budget available\n",
    "#B = 6\n",
    "B=5"
   ]
  },
  {
   "cell_type": "markdown",
   "metadata": {},
   "source": [
    "The following function generates an empty model object “m” and takes the string “RAP” model name as its argument."
   ]
  },
  {
   "cell_type": "code",
   "execution_count": 5,
   "metadata": {},
   "outputs": [
    {
     "name": "stdout",
     "output_type": "stream",
     "text": [
      "Set parameter Username\n",
      "Academic license - for non-commercial use only - expires 2024-04-29\n"
     ]
    }
   ],
   "source": [
    "# Declare and initialize model\n",
    "m = Model('RAP')"
   ]
  },
  {
   "cell_type": "markdown",
   "metadata": {},
   "source": [
    "## Decision variables\n",
    "\n",
    "The decision variable $x_{r,\\; j} = 1$ represents that resource r is assigned to job j, and 0 otherwise, for  r=1,2,3 and 𝑗=1,2,3.\n",
    "\n",
    "The “addVars()” method defines the decision variables of the model object “m”.  \n",
    "\n",
    "**Math notation**\n",
    "\n",
    "Let $x_{r,\\; j} = 1$ if resource $r \\in R$  is assigend to job $j \\in J$, and zero otherwise.\n",
    "\n",
    "Let $g_{j} = 1$ if job $j \\in J$ cannot be filled, and zero otherwise. This variable is a gap variable that indicates that a job cannot be filled.\n"
   ]
  },
  {
   "cell_type": "code",
   "execution_count": 6,
   "metadata": {},
   "outputs": [],
   "source": [
    "# Create decision variables for the RAP model\n",
    "#x = m.addVars(combinations, name=\"assign\")\n",
    "x = m.addVars(combinations, vtype=GRB.BINARY, name=\"assign\")\n",
    "\n",
    "# Create gap variables for the RAP model\n",
    "g = m.addVars(J, name=\"gap\")"
   ]
  },
  {
   "cell_type": "markdown",
   "metadata": {},
   "source": [
    "## Jobs constraints\n",
    "\n",
    "For each job 𝑗=1,2,3, exactly one resource from r=1,2,3 must be assigned.\n",
    "\n",
    "Constraint (Tester=1): $x_{1,\\; 1} + x_{2,\\; 1} + x_{3,\\; 1} = 1$\n",
    "\n",
    "Constraint (Java-Developer=2): $x_{1,\\; 2} + x_{2,\\; 2} + x_{3,\\; 2} = 1$\n",
    "\n",
    "Constraint (Architect=3): $x_{1,\\; 3} + x_{2,\\; 3} + x_{3,\\; 3} = 1$\n",
    "\n",
    "The “addConstrs()” method defines the constraints of the model object “m”. \n",
    "\n",
    "**Math notation**\n",
    "\n",
    "For each job $j \\in J$, exactly one resouce must be assigned:\n",
    "\n",
    "$$\n",
    "\\sum_{r \\: \\in \\: R} x_{r,\\; j} + g_{j} = 1 \n",
    "$$\n",
    "\n"
   ]
  },
  {
   "cell_type": "code",
   "execution_count": 7,
   "metadata": {},
   "outputs": [],
   "source": [
    "# create jobs  constraints\n",
    "jobs = m.addConstrs((x.sum('*',j) + g[j]  == 1 for j in J), 'job')"
   ]
  },
  {
   "cell_type": "markdown",
   "metadata": {},
   "source": [
    "## Resources constraints\n",
    "\n",
    "For each resource = r=1,2,3, at most one job from r=1,2,3 can be assigned.\n",
    "\n",
    "Constraint (Carlos=1): $x_{1,\\; 1} + x_{1,\\; 2} + x_{1,\\; 3}  \\leq 1$\n",
    "\n",
    "Constraint (Joe=2): $x_{2,\\; 1} + x_{2,\\; 2} + x_{2,\\; 3}  \\leq 1$\n",
    "\n",
    "Constraint (Monika=3): $x_{2,\\; 1} + x_{2,\\; 2} + x_{2,\\; 3}  \\leq 1$\n",
    "\n",
    "The “addConstrs()” method defines the constraints of the model object “m”. \n",
    "\n",
    "**Math notation**\n",
    "\n",
    "For each resource $r \\in R$, at most one job can be assigned:\n",
    "\n",
    "$$\n",
    "\\sum_{j \\: \\in \\: J} x_{r,\\; j} \\leq 1 \n",
    "$$"
   ]
  },
  {
   "cell_type": "code",
   "execution_count": 8,
   "metadata": {},
   "outputs": [],
   "source": [
    "# create resources constraints\n",
    "resources = m.addConstrs((x.sum(r,'*') <= 1 for r in R), 'resource')"
   ]
  },
  {
   "cell_type": "markdown",
   "metadata": {},
   "source": [
    "## Budget constraint\n",
    "\n",
    "The total cost of assigning resources to jobs should be less or equal than the budget available.\n",
    "\n",
    "$$\n",
    "\\sum_{r \\; \\in \\; R} \\sum_{j \\; \\in \\; J} C_{r, j}x_{r, j} \\leq B\n",
    "$$"
   ]
  },
  {
   "cell_type": "code",
   "execution_count": 9,
   "metadata": {},
   "outputs": [],
   "source": [
    "budget = m.addConstr((x.prod(C) <= B), 'budget')"
   ]
  },
  {
   "cell_type": "markdown",
   "metadata": {},
   "source": [
    "## Objective Function\n",
    "\n",
    "The objective function is to maximize the total matching score of the assignments.\n",
    "\n",
    "$$\n",
    "Max \\; (53x_{1,\\; 1} + 80x_{2,\\; 1} + 53x_{3,\\; 1}) + (27x_{1,\\; 2} + 47x_{2,\\; 2} + 73x_{3,\\; 2})\n",
    "+ (13x_{1,\\; 3} + 67x_{2,\\; 3} + 47x_{3,\\; 3})\n",
    "$$\n",
    "\n",
    "The “setObjective()” method defines the objective function of the model object “m”. \n",
    "\n",
    "**Math notation**\n",
    "\n",
    "Notice that \n",
    "$$\n",
    "(53x_{1,\\; 1} + 80x_{2,\\; 1} + 53x_{3,\\; 1}) = \\sum_{r \\; \\in \\; R} ms_{r,1}x_{r,1} \\\\\n",
    "(27x_{1,\\; 2} + 47x_{2,\\; 2} + 73x_{3,\\; 2}) = \\sum_{r \\; \\in \\; R} ms_{r,2}x_{r,2} \\\\\n",
    "(13x_{1,\\; 3} + 67x_{2,\\; 3} + 47x_{3,\\; 3})  = \\sum_{r \\; \\in \\; R} ms_{r,3}x_{r,3}\n",
    "$$\n",
    "\n",
    "Hence, the objective function can be expressed as follows\n",
    "\n",
    "$$\n",
    "Max \\; \\sum_{j \\; \\in \\; J} \\sum_{r \\; \\in \\; R} ms_{r,j}x_{r,j} -BigM \\sum_{j \\in J} g_{j}\n",
    "$$\n"
   ]
  },
  {
   "cell_type": "code",
   "execution_count": 10,
   "metadata": {},
   "outputs": [],
   "source": [
    "# Penalty for not filling a job position\n",
    "BIGM =101\n",
    "\n",
    "# The objective is to maximize total matching score of the assignments\n",
    "m.setObjective(x.prod(ms) -BIGM*g.sum(), GRB.MAXIMIZE)"
   ]
  },
  {
   "cell_type": "code",
   "execution_count": 11,
   "metadata": {},
   "outputs": [],
   "source": [
    "# save model for inspection\n",
    "m.write('RAP3.lp')"
   ]
  },
  {
   "cell_type": "code",
   "execution_count": 12,
   "metadata": {},
   "outputs": [
    {
     "name": "stdout",
     "output_type": "stream",
     "text": [
      "Gurobi Optimizer version 10.0.2 build v10.0.2rc0 (win64)\n",
      "\n",
      "CPU model: AMD Ryzen 7 5800H with Radeon Graphics, instruction set [SSE2|AVX|AVX2]\n",
      "Thread count: 8 physical cores, 16 logical processors, using up to 16 threads\n",
      "\n",
      "Optimize a model with 7 rows, 12 columns and 30 nonzeros\n",
      "Model fingerprint: 0xa1231a12\n",
      "Variable types: 3 continuous, 9 integer (9 binary)\n",
      "Coefficient statistics:\n",
      "  Matrix range     [1e+00, 3e+00]\n",
      "  Objective range  [1e+01, 1e+02]\n",
      "  Bounds range     [1e+00, 1e+00]\n",
      "  RHS range        [1e+00, 5e+00]\n",
      "Presolve time: 0.00s\n",
      "Presolved: 7 rows, 12 columns, 30 nonzeros\n",
      "Variable types: 0 continuous, 12 integer (12 binary)\n",
      "Found heuristic solution: objective 52.0000000\n",
      "\n",
      "Root relaxation: objective 1.350000e+02, 4 iterations, 0.00 seconds (0.00 work units)\n",
      "\n",
      "    Nodes    |    Current Node    |     Objective Bounds      |     Work\n",
      " Expl Unexpl |  Obj  Depth IntInf | Incumbent    BestBd   Gap | It/Node Time\n",
      "\n",
      "     0     0  135.00000    0    2   52.00000  135.00000   160%     -    0s\n",
      "     0     0     cutoff    0        52.00000   52.00000  0.00%     -    0s\n",
      "\n",
      "Cutting planes:\n",
      "  Gomory: 1\n",
      "  GUB cover: 1\n",
      "  RLT: 1\n",
      "\n",
      "Explored 1 nodes (6 simplex iterations) in 0.02 seconds (0.00 work units)\n",
      "Thread count was 16 (of 16 available processors)\n",
      "\n",
      "Solution count 1: 52 \n",
      "\n",
      "Optimal solution found (tolerance 1.00e-04)\n",
      "Best objective 5.200000000000e+01, best bound 5.200000000000e+01, gap 0.0000%\n"
     ]
    }
   ],
   "source": [
    "# run optimization engine\n",
    "m.optimize()"
   ]
  },
  {
   "cell_type": "code",
   "execution_count": 13,
   "metadata": {},
   "outputs": [
    {
     "name": "stdout",
     "output_type": "stream",
     "text": [
      "assign[Joe,Tester] 1.0\n",
      "assign[Monika,JavaDeveloper] 1.0\n",
      "gap[Architect] 1.0\n",
      "Optimal objective function value 52.0\n",
      "Total matching score:  153.0\n"
     ]
    }
   ],
   "source": [
    "# display optimal values of decision variables\n",
    "for v in m.getVars():\n",
    "\tif (abs(v.x) > 1e-6):\n",
    "\t\tprint(v.varName, v.x)\n",
    "\n",
    "# display optimal total matching score\n",
    "print('Optimal objective function value', m.objVal)   \n",
    "\n",
    "# Compute total matching score from assignment  variables\n",
    "total_matching_score = 0\n",
    "for [r, j] in combinations:\n",
    "    if (abs(x[r, j].x) > 1e-6):\n",
    "        total_matching_score = total_matching_score + ms[r, j]*x[r, j].x\n",
    "\n",
    "print('Total matching score: ', total_matching_score)  \n"
   ]
  },
  {
   "cell_type": "markdown",
   "metadata": {},
   "source": [
    "## Sample a Random Scenario"
   ]
  },
  {
   "cell_type": "code",
   "execution_count": 14,
   "metadata": {},
   "outputs": [],
   "source": [
    "import names\n",
    "import random\n",
    "import numpy as np\n",
    "from gurobipy import *\n",
    "from itertools import product\n",
    "\n",
    "def generate_scenario(num_resources=200, num_jobs=200, roles=None,\n",
    "                      score_mu=50, score_sigma=15, seed=10101):\n",
    "    random.seed(seed)\n",
    "    np.random.seed(seed)\n",
    "    if roles is None:\n",
    "        roles = {\"Architect\", \"BackEndEngineer\", \"FrontEndEngineer\",\n",
    "                     \"Tester\", \"DataScientist\", \"DataEngineer\"}\n",
    "    # P.D.F. of resource costs follows Benford's law, having support {1,2,...,9}\n",
    "    benford = [np.log10((i+1)/i) for i in range(1,10)]\n",
    "    # Sample resource names\n",
    "    resources = {names.get_full_name() for i in range(num_resources)}\n",
    "    # Sample job requirements, given that all roles are equally likely to be selected\n",
    "    req = np.random.multinomial(num_jobs, [1/len(roles)]*len(roles), size=1)[0]\n",
    "    jobs = set()\n",
    "    # Assign ID to each job position\n",
    "    for i, role in enumerate(roles):\n",
    "        jobs = jobs.union(set(map(''.join, zip([role]*req[i], [str(x).zfill(int(np.log10(num_jobs))+1) for x in range(1,req[i]+1)]))))\n",
    "    scores = {}\n",
    "    costs = {}\n",
    "    # Sample matching score and cost for each potential assignment\n",
    "    for pair in product(resources, jobs):\n",
    "        scores[pair] = int(np.clip(np.random.normal(score_mu, score_sigma), 0, 100))\n",
    "        costs[pair] = random.choices(list(range(1,10)), weights=benford, k=1)[0]\n",
    "    return resources, jobs, scores, costs "
   ]
  },
  {
   "cell_type": "code",
   "execution_count": 15,
   "metadata": {},
   "outputs": [],
   "source": [
    "res, job, ms, cst = generate_scenario(seed=11111)\n",
    "budget = 200"
   ]
  },
  {
   "cell_type": "markdown",
   "metadata": {},
   "source": [
    "## Get a Greedy Solution"
   ]
  },
  {
   "cell_type": "code",
   "execution_count": 16,
   "metadata": {},
   "outputs": [],
   "source": [
    "def greedy_solve(resources, jobs, scores, costs, budget):\n",
    "    assign = set()\n",
    "    total_score = 0\n",
    "    remaining_budget = budget\n",
    "    while remaining_budget > 0 and len(scores.keys()) > 0:\n",
    "        selection = max(scores, key=scores.get)\n",
    "        assign.add(selection)\n",
    "        total_score += scores[selection]\n",
    "        remaining_budget -= costs[selection]\n",
    "        # Remove potential assignments related to the resource/job of new selection\n",
    "        res_filter = list(filter(lambda x: x[0] == selection[0], scores))\n",
    "        job_filter = list(filter(lambda x: x[1] == selection[1], scores))\n",
    "        blacklist = res_filter + job_filter\n",
    "        scores = {key: val for key,val in scores.items()\n",
    "                  if key not in blacklist\n",
    "                  and costs[key] <= remaining_budget}\n",
    "    print(\"Number of assignments: {0}\".format(len(assign)))\n",
    "    print(\"Total matching score: {0}\".format(total_score))\n",
    "    print(\"Budget consumed: {0}\".format(budget - remaining_budget))\n",
    "    \n",
    "    kpi = {}\n",
    "    kpi[\"n_assign\"] = len(assign)\n",
    "    kpi[\"total_ms\"] = total_score\n",
    "    kpi[\"budget_used\"] = budget - remaining_budget\n",
    "    return assign, kpi\n",
    "        "
   ]
  },
  {
   "cell_type": "code",
   "execution_count": 17,
   "metadata": {},
   "outputs": [
    {
     "name": "stdout",
     "output_type": "stream",
     "text": [
      "Number of assignments: 58\n",
      "Total matching score: 5589\n",
      "Budget consumed: 200\n"
     ]
    }
   ],
   "source": [
    "greedy_sol, kpi = greedy_solve(res, job, ms, cst, budget)\n",
    "\n",
    "# Greedy heuristic KPI's \n",
    "Greedy_assign = kpi[\"n_assign\"]\n",
    "Greedy_ms = kpi[\"total_ms\"]\n",
    "\n",
    "#print('Greedy number assignments: ', Greedy_assign)\n",
    "#print('Greedy total matching score: ',Greedy_ms)"
   ]
  },
  {
   "cell_type": "markdown",
   "metadata": {},
   "source": [
    "# Get Optimal Solution"
   ]
  },
  {
   "cell_type": "code",
   "execution_count": 18,
   "metadata": {},
   "outputs": [
    {
     "name": "stdout",
     "output_type": "stream",
     "text": [
      "Gurobi Optimizer version 10.0.2 build v10.0.2rc0 (win64)\n",
      "\n",
      "CPU model: AMD Ryzen 7 5800H with Radeon Graphics, instruction set [SSE2|AVX|AVX2]\n",
      "Thread count: 8 physical cores, 16 logical processors, using up to 16 threads\n",
      "\n",
      "Optimize a model with 401 rows, 40200 columns and 120200 nonzeros\n",
      "Model fingerprint: 0xcca97cf6\n",
      "Variable types: 200 continuous, 40000 integer (40000 binary)\n",
      "Coefficient statistics:\n",
      "  Matrix range     [1e+00, 9e+00]\n",
      "  Objective range  [1e+00, 1e+02]\n",
      "  Bounds range     [1e+00, 1e+00]\n",
      "  RHS range        [1e+00, 2e+02]\n",
      "Found heuristic solution: objective -20200.00000\n",
      "Presolve time: 0.11s\n",
      "Presolved: 401 rows, 40200 columns, 120200 nonzeros\n",
      "Variable types: 0 continuous, 40200 integer (40200 binary)\n",
      "Found heuristic solution: objective -14889.00000\n",
      "\n",
      "Root relaxation: objective 1.627500e+04, 564 iterations, 0.04 seconds (0.07 work units)\n",
      "\n",
      "    Nodes    |    Current Node    |     Objective Bounds      |     Work\n",
      " Expl Unexpl |  Obj  Depth IntInf | Incumbent    BestBd   Gap | It/Node Time\n",
      "\n",
      "*    0     0               0    16275.000000 16275.0000  0.00%     -    0s\n",
      "\n",
      "Explored 1 nodes (564 simplex iterations) in 0.29 seconds (0.47 work units)\n",
      "Thread count was 16 (of 16 available processors)\n",
      "\n",
      "Solution count 3: 16275 -14889 -20200 \n",
      "\n",
      "Optimal solution found (tolerance 1.00e-04)\n",
      "Best objective 1.627500000000e+04, best bound 1.627500000000e+04, gap 0.0000%\n"
     ]
    }
   ],
   "source": [
    "m = Model(\"RAP\")\n",
    "assign = m.addVars(ms.keys(), vtype=GRB.BINARY, name=\"assign\")\n",
    "g = m.addVars(job, name=\"gap\")\n",
    "m.addConstrs((assign.sum(\"*\", j) + g[j]  == 1 for j in job), name=\"demand\")\n",
    "m.addConstrs((assign.sum(r, \"*\") <= 1 for r in res), name=\"supply\")\n",
    "m.addConstr(assign.prod(cst) <= budget, name=\"Budget\")\n",
    "m.setObjective(assign.prod(ms) -BIGM*g.sum(), GRB.MAXIMIZE)\n",
    "m.optimize()"
   ]
  },
  {
   "cell_type": "code",
   "execution_count": 19,
   "metadata": {},
   "outputs": [
    {
     "name": "stdout",
     "output_type": "stream",
     "text": [
      "1) assign[Courtney Heinandez,FrontEndEngineer002]: 1.0\n",
      "2) assign[Patrick Rogers,DataEngineer012]: 1.0\n",
      "3) assign[Samuel Crews,BackEndEngineer031]: 1.0\n",
      "4) assign[Gertrude Webb,BackEndEngineer004]: 1.0\n",
      "5) assign[Donald Marx,Architect035]: 1.0\n",
      "6) assign[Douglas Mariani,Architect018]: 1.0\n",
      "7) assign[Lorena Freeman,FrontEndEngineer001]: 1.0\n",
      "8) assign[Maria Beals,DataEngineer003]: 1.0\n",
      "9) assign[Jason Fields,DataScientist019]: 1.0\n",
      "10) assign[Alisha Johnson,Tester007]: 1.0\n",
      "11) assign[Lillian Biser,DataScientist010]: 1.0\n",
      "12) assign[Shirley Begley,DataScientist017]: 1.0\n",
      "13) assign[Melissa Maupin,Tester015]: 1.0\n",
      "14) assign[Gary Voris,Tester002]: 1.0\n",
      "15) assign[Jessica Mata,BackEndEngineer007]: 1.0\n",
      "16) assign[Autumn Phothirath,BackEndEngineer013]: 1.0\n",
      "17) assign[Karla Sanchez,BackEndEngineer008]: 1.0\n",
      "18) assign[Paul Lowe,DataScientist024]: 1.0\n",
      "19) assign[Marita Buhmann,DataEngineer004]: 1.0\n",
      "20) assign[Teresa Spoon,DataScientist014]: 1.0\n",
      "21) assign[Patrick Odell,FrontEndEngineer012]: 1.0\n",
      "22) assign[Alicia Glover,Architect022]: 1.0\n",
      "23) assign[Edward Gray,Tester021]: 1.0\n",
      "24) assign[David Miner,Tester014]: 1.0\n",
      "25) assign[Martha Newport,Architect038]: 1.0\n",
      "26) assign[Nicholas Beltrame,FrontEndEngineer019]: 1.0\n",
      "27) assign[Karen Horton,Architect002]: 1.0\n",
      "28) assign[Robert Hatton,BackEndEngineer002]: 1.0\n",
      "29) assign[Philip Mcalary,DataEngineer001]: 1.0\n",
      "30) assign[Odell Deanda,DataEngineer016]: 1.0\n",
      "31) assign[Barbara Geoghegan,Tester008]: 1.0\n",
      "32) assign[Ronald Mcconnell,FrontEndEngineer011]: 1.0\n",
      "33) assign[Jesus Hancock,DataEngineer025]: 1.0\n",
      "34) assign[Florence Canada,DataEngineer019]: 1.0\n",
      "35) assign[Luis Tamondong,Architect024]: 1.0\n",
      "36) assign[Robert Douglas,DataEngineer002]: 1.0\n",
      "37) assign[Roy Bailey,FrontEndEngineer026]: 1.0\n",
      "38) assign[Debra Lemke,BackEndEngineer022]: 1.0\n",
      "39) assign[Leslie Swain,BackEndEngineer012]: 1.0\n",
      "40) assign[Richard Williams,DataScientist021]: 1.0\n",
      "41) assign[James Peters,BackEndEngineer014]: 1.0\n",
      "42) assign[Travis Cole,DataScientist022]: 1.0\n",
      "43) assign[Cory Arciniega,DataEngineer008]: 1.0\n",
      "44) assign[Jonathan Younglas,Architect014]: 1.0\n",
      "45) assign[Robert Ohara,DataScientist039]: 1.0\n",
      "46) assign[Stephanie Gardner,Tester017]: 1.0\n",
      "47) assign[Gertrude Knowles,FrontEndEngineer027]: 1.0\n",
      "48) assign[Cordelia Kaylor,Architect020]: 1.0\n",
      "49) assign[Denver Madrid,DataEngineer009]: 1.0\n",
      "50) assign[Earl Rosen,Architect025]: 1.0\n",
      "51) assign[Michelle Garnand,Architect028]: 1.0\n",
      "52) assign[Jacob Schwartz,BackEndEngineer015]: 1.0\n",
      "53) assign[John Thomas,BackEndEngineer026]: 1.0\n",
      "54) assign[Patricia Summerlin,Architect042]: 1.0\n",
      "55) assign[Heather Khan,FrontEndEngineer028]: 1.0\n",
      "56) assign[Paul Hudson,Architect037]: 1.0\n",
      "57) assign[James Oneill,Architect005]: 1.0\n",
      "58) assign[Johnny Walker,DataScientist015]: 1.0\n",
      "59) assign[Jeffrey Dixon,BackEndEngineer010]: 1.0\n",
      "60) assign[Rita Hodge,Architect040]: 1.0\n",
      "61) assign[Marilyn Melanson,BackEndEngineer006]: 1.0\n",
      "62) assign[Noel Connelly,FrontEndEngineer006]: 1.0\n",
      "63) assign[Jerry Collett,Architect012]: 1.0\n",
      "64) assign[Bianca Harris,Architect034]: 1.0\n",
      "65) assign[Elena Lee,DataScientist003]: 1.0\n",
      "66) assign[Geri Brooks,FrontEndEngineer024]: 1.0\n",
      "67) assign[Carmella Sixon,Architect027]: 1.0\n",
      "68) assign[Johnny Mcmurray,BackEndEngineer016]: 1.0\n",
      "69) assign[Mark Sangster,Tester013]: 1.0\n",
      "70) assign[Joey Sampson,DataEngineer007]: 1.0\n",
      "71) assign[Jerry Dragon,Tester011]: 1.0\n",
      "72) assign[Jennie James,DataScientist037]: 1.0\n",
      "73) assign[Gracie Shockley,Architect006]: 1.0\n",
      "74) assign[Gladys Worrell,FrontEndEngineer032]: 1.0\n",
      "75) assign[Kristin Wermers,DataScientist025]: 1.0\n",
      "76) assign[Daniel Stone,Architect021]: 1.0\n",
      "77) assign[Zachary Curtis,DataScientist013]: 1.0\n",
      "78) assign[Addie Brown,DataEngineer023]: 1.0\n",
      "79) assign[Lavon Cothran,DataScientist034]: 1.0\n",
      "80) assign[Patricia Vaughn,Tester006]: 1.0\n",
      "81) assign[Monica Grubbs,FrontEndEngineer009]: 1.0\n",
      "82) assign[Kory Gonsalez,BackEndEngineer019]: 1.0\n",
      "83) assign[Kristie Cobb,DataEngineer014]: 1.0\n",
      "84) assign[William Jones,FrontEndEngineer031]: 1.0\n",
      "85) assign[Sean Elwell,DataScientist006]: 1.0\n",
      "86) assign[Tina Johnson,Architect016]: 1.0\n",
      "87) assign[Stephanie George,BackEndEngineer011]: 1.0\n",
      "88) assign[James Carter,DataScientist033]: 1.0\n",
      "89) assign[Michele Dess,DataEngineer011]: 1.0\n",
      "90) assign[Frances Lavender,DataScientist001]: 1.0\n",
      "91) assign[Donald Green,FrontEndEngineer013]: 1.0\n",
      "92) assign[David Rogowski,BackEndEngineer017]: 1.0\n",
      "93) assign[Derek Landon,DataEngineer006]: 1.0\n",
      "94) assign[Raymond Cole,Tester012]: 1.0\n",
      "95) assign[Michael Davis,Architect044]: 1.0\n",
      "96) assign[Charles Gomez,BackEndEngineer023]: 1.0\n",
      "97) assign[Joe Suarez,FrontEndEngineer030]: 1.0\n",
      "98) assign[Eric Gonzalez,DataScientist002]: 1.0\n",
      "99) assign[David Williams,Architect011]: 1.0\n",
      "100) assign[Crystal Douglas,DataScientist007]: 1.0\n",
      "101) assign[Terry Wilson,DataScientist012]: 1.0\n",
      "102) assign[Mary Hackler,FrontEndEngineer004]: 1.0\n",
      "103) assign[Sharon Dean,FrontEndEngineer015]: 1.0\n",
      "104) assign[Jeffrey Fetter,Architect031]: 1.0\n",
      "105) assign[Missy Burke,Architect009]: 1.0\n",
      "106) assign[Dennis Lee,DataEngineer017]: 1.0\n",
      "107) assign[Krystal Berardi,Architect033]: 1.0\n",
      "108) assign[Ann Holtzman,Tester005]: 1.0\n",
      "109) assign[Leila Richardson,DataScientist028]: 1.0\n",
      "110) assign[Linda Capp,BackEndEngineer029]: 1.0\n",
      "111) assign[Brad Love,DataEngineer021]: 1.0\n",
      "112) assign[Devorah Pierre,DataEngineer005]: 1.0\n",
      "113) assign[Dora Catchings,Architect010]: 1.0\n",
      "114) assign[Tracy Popielarczyk,DataScientist011]: 1.0\n",
      "115) assign[Kimberly Peterson,Tester009]: 1.0\n",
      "116) assign[Heather Lewis,Tester018]: 1.0\n",
      "117) assign[Heather Lindquist,BackEndEngineer021]: 1.0\n",
      "118) assign[Christy Acree,FrontEndEngineer017]: 1.0\n",
      "119) assign[Antoine Bullard,BackEndEngineer025]: 1.0\n",
      "120) assign[Jennifer Wohner,Tester001]: 1.0\n",
      "121) assign[Catalina Anderson,FrontEndEngineer010]: 1.0\n",
      "122) assign[Richard Jennings,BackEndEngineer024]: 1.0\n",
      "123) assign[Joe Gantt,DataEngineer018]: 1.0\n",
      "124) assign[Nicole Hewitt,Architect043]: 1.0\n",
      "125) assign[Ronald Marashio,FrontEndEngineer023]: 1.0\n",
      "126) assign[Charles Thomas,DataScientist032]: 1.0\n",
      "127) assign[Quinton Manning,BackEndEngineer027]: 1.0\n",
      "128) assign[Thomas Kaufman,BackEndEngineer018]: 1.0\n",
      "129) assign[Roy Bednorz,Architect023]: 1.0\n",
      "130) assign[Mary Conner,DataScientist023]: 1.0\n",
      "131) assign[Matthew Vaughn,DataEngineer015]: 1.0\n",
      "132) assign[Geraldine Vargas,Architect007]: 1.0\n",
      "133) assign[Elizabeth Johnston,Tester022]: 1.0\n",
      "134) assign[John Solis,Tester016]: 1.0\n",
      "135) assign[Glen Thompson,Architect030]: 1.0\n",
      "136) assign[Rufus Walker,DataEngineer027]: 1.0\n",
      "137) assign[Jason Langford,Tester019]: 1.0\n",
      "138) assign[Lance Segura,Architect013]: 1.0\n",
      "139) assign[Jessica Bentley,DataScientist031]: 1.0\n",
      "140) assign[Kelly Buoy,BackEndEngineer028]: 1.0\n",
      "141) assign[James Bates,Tester020]: 1.0\n",
      "142) assign[Vallie Silvestri,FrontEndEngineer007]: 1.0\n",
      "143) assign[Christine Nichols,FrontEndEngineer020]: 1.0\n",
      "144) assign[John Copper,Architect015]: 1.0\n",
      "145) assign[Clarence Morton,BackEndEngineer030]: 1.0\n",
      "146) assign[Salvatore Averill,FrontEndEngineer021]: 1.0\n",
      "147) assign[Jordan Ward,BackEndEngineer020]: 1.0\n",
      "148) assign[Clara Lindgren,DataScientist018]: 1.0\n",
      "149) assign[Sara Raymond,DataEngineer010]: 1.0\n",
      "150) assign[Anita Smith,DataScientist005]: 1.0\n",
      "151) assign[Charles Doering,BackEndEngineer032]: 1.0\n",
      "152) assign[Suzie Levings,DataScientist030]: 1.0\n",
      "153) assign[Frederick Farrell,DataScientist004]: 1.0\n",
      "154) assign[Joyce Carrier,DataScientist026]: 1.0\n",
      "155) assign[Paul Barron,FrontEndEngineer029]: 1.0\n",
      "156) assign[Shelia Rossi,DataScientist020]: 1.0\n",
      "157) assign[Jay Terry,Tester010]: 1.0\n",
      "158) assign[Antonio Hancock,Tester004]: 1.0\n",
      "159) assign[Dominica Milner,Architect032]: 1.0\n",
      "160) assign[Benjamin Barber,DataScientist008]: 1.0\n",
      "161) assign[Tammy Creighton,FrontEndEngineer025]: 1.0\n",
      "162) assign[Mina Sheffield,DataScientist027]: 1.0\n",
      "163) assign[Robin Ransome,FrontEndEngineer003]: 1.0\n",
      "164) assign[Dorthey Hannah,Architect004]: 1.0\n",
      "165) assign[Tressie Vargas,DataScientist016]: 1.0\n",
      "166) assign[Karen Merchant,FrontEndEngineer022]: 1.0\n",
      "167) assign[Kimberly Brown,DataScientist029]: 1.0\n",
      "168) assign[Patricia Maggard,BackEndEngineer001]: 1.0\n",
      "169) assign[Rebecca Klatt,BackEndEngineer005]: 1.0\n",
      "170) assign[Shanon Moore,BackEndEngineer009]: 1.0\n",
      "171) assign[Jose Uong,BackEndEngineer034]: 1.0\n",
      "172) assign[Susie Leonard,BackEndEngineer033]: 1.0\n",
      "173) assign[John Walsh,FrontEndEngineer016]: 1.0\n",
      "174) assign[Jenelle Giller,DataEngineer020]: 1.0\n",
      "175) assign[Harriet Vandenberge,Architect039]: 1.0\n",
      "176) assign[Rose Mcgregor,DataEngineer013]: 1.0\n",
      "177) assign[Elias Pinkston,DataEngineer024]: 1.0\n",
      "178) assign[Joel Dodd,DataEngineer026]: 1.0\n",
      "179) assign[William James,DataEngineer022]: 1.0\n",
      "180) assign[Don Ely,DataScientist038]: 1.0\n",
      "181) assign[George Stalker,Architect003]: 1.0\n",
      "182) assign[Chad Day,Tester003]: 1.0\n",
      "183) assign[Jason Stjohn,Architect001]: 1.0\n",
      "184) assign[Nichole Barlow,BackEndEngineer003]: 1.0\n",
      "185) assign[Michael Kozlowski,Architect045]: 1.0\n",
      "186) assign[Blanca Thompson,Architect036]: 1.0\n",
      "187) assign[Michael Hodges,DataScientist035]: 1.0\n",
      "188) assign[Jennifer Hogan,Architect017]: 1.0\n",
      "189) assign[Charles Bianco,Architect026]: 1.0\n",
      "190) assign[Joe Anderson,Architect019]: 1.0\n",
      "191) assign[Terri Bartholomew,DataScientist036]: 1.0\n",
      "192) assign[Lenore Torrence,Architect008]: 1.0\n",
      "193) assign[Myles French,Architect029]: 1.0\n",
      "194) assign[Richard Latigo,Tester023]: 1.0\n",
      "195) assign[John Nester,FrontEndEngineer008]: 1.0\n",
      "196) assign[Paula Gonzales,FrontEndEngineer014]: 1.0\n",
      "197) assign[Laura Portes,Architect041]: 1.0\n",
      "198) assign[Juan Ordonez,DataScientist009]: 1.0\n",
      "199) assign[Amanda Membreno,FrontEndEngineer005]: 1.0\n",
      "200) assign[Terry Cunningham,FrontEndEngineer018]: 1.0\n",
      "Total matching score: 16275.0\n",
      "Optimal objective function value: 16275.0\n"
     ]
    }
   ],
   "source": [
    "def print_solution(model):\n",
    "    i = 1\n",
    "    total_ms = 0\n",
    "    for var in model.getVars():\n",
    "        if abs(var.x) > 1e-6:\n",
    "            print(\"{0}) {1}: {2}\".format(i, var.varName, var.x))\n",
    "            i += 1\n",
    "            if \"assign\" in var.varName:\n",
    "                total_ms += var.Obj\n",
    "    print('Total matching score: {0}'.format(total_ms))\n",
    "    print('Optimal objective function value: {0}'.format(model.objVal))\n",
    "    return None\n",
    "\n",
    "# display optimal values of decision variables\n",
    "print_solution(m)"
   ]
  },
  {
   "cell_type": "code",
   "execution_count": 20,
   "metadata": {
    "tags": []
   },
   "outputs": [
    {
     "name": "stdout",
     "output_type": "stream",
     "text": [
      "Assignment ratio:  29.00 %\n",
      "Matching score ratio:  34.34 %\n"
     ]
    }
   ],
   "source": [
    "# comparing KPI's of greedy heuristic and Gurobi Optimizer\n",
    "Gurobi_assign = 0\n",
    "Gurobi_ms = 0\n",
    "for [r,j] in ms.keys():\n",
    "    if (abs(assign[r, j].x) > 1e-6):\n",
    "        Gurobi_assign = Gurobi_assign + assign[r, j].x\n",
    "        Gurobi_ms = Gurobi_ms + ms[r, j]*assign[r, j].x\n",
    "        \n",
    "#print('Gurobi total assignments: ', Gurobi_assign)\n",
    "#print('Gurobi total matching score: ', Gurobi_ms)\n",
    "\n",
    "#Ratio of Greedy assignments respect to Gurobi assignments\n",
    "assign_ratio = 100*Greedy_assign/Gurobi_assign\n",
    "ms_ratio = 100*Greedy_ms/Gurobi_ms\n",
    "\n",
    "print('Assignment ratio: ',\"%.2f\" % assign_ratio, '%')\n",
    "print('Matching score ratio: ',\"%.2f\" % ms_ratio, '%')"
   ]
  }
 ],
 "metadata": {
  "kernelspec": {
   "display_name": "Python 3 (ipykernel)",
   "language": "python",
   "name": "python3"
  },
  "language_info": {
   "codemirror_mode": {
    "name": "ipython",
    "version": 3
   },
   "file_extension": ".py",
   "mimetype": "text/x-python",
   "name": "python",
   "nbconvert_exporter": "python",
   "pygments_lexer": "ipython3",
   "version": "3.9.17"
  }
 },
 "nbformat": 4,
 "nbformat_minor": 4
}
